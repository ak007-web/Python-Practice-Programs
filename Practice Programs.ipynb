{
 "cells": [
  {
   "cell_type": "markdown",
   "id": "77cb85be-f11f-4515-afeb-bf640cf10bca",
   "metadata": {},
   "source": [
    "# Daily Python Programs"
   ]
  },
  {
   "cell_type": "code",
   "execution_count": 5,
   "id": "6b624ef7-ae52-4884-a2e2-4a73dba36d5e",
   "metadata": {},
   "outputs": [
    {
     "name": "stdout",
     "output_type": "stream",
     "text": [
      "1\n",
      "2\n",
      "3\n",
      "4\n",
      "5\n",
      "6\n",
      "7\n",
      "8\n",
      "9\n",
      "10\n"
     ]
    }
   ],
   "source": [
    "# Print numbers from 1 to n using recursion.\n",
    "\n",
    "def numbers(n):\n",
    "    if n == 0:\n",
    "        return 0\n",
    "    numbers(n-1)\n",
    "    print(n)\n",
    "numbers(10)"
   ]
  },
  {
   "cell_type": "code",
   "execution_count": 18,
   "id": "b190b71c-1b50-4c51-9aaf-1585b247dc8a",
   "metadata": {},
   "outputs": [
    {
     "name": "stdout",
     "output_type": "stream",
     "text": [
      "5\n"
     ]
    }
   ],
   "source": [
    "# Write a recursive function to count how many digits are in a number\n",
    "\n",
    "def count_digits(n):\n",
    "    if n == 0:\n",
    "        return 0\n",
    "    return 1 + count_digits(n // 10)\n",
    "print(count_digits(12345))"
   ]
  },
  {
   "cell_type": "code",
   "execution_count": 21,
   "id": "50df6664-37f6-4e61-b1fc-c944872b4e90",
   "metadata": {},
   "outputs": [
    {
     "name": "stdout",
     "output_type": "stream",
     "text": [
      "h\n"
     ]
    }
   ],
   "source": [
    "# Write a lambda to return the last character of a string\n",
    "\n",
    "last_char = lambda s: s[-1]\n",
    "print(last_char(\"Akash\"))"
   ]
  },
  {
   "cell_type": "code",
   "execution_count": 23,
   "id": "cab0ff08-2c48-4537-b1de-ee72a012dcde",
   "metadata": {},
   "outputs": [
    {
     "name": "stdout",
     "output_type": "stream",
     "text": [
      "[2, 5]\n"
     ]
    }
   ],
   "source": [
    "# Use map() to find the length of each word in a sentence\n",
    "\n",
    "n= \"Hi there\"\n",
    "length = list(map(len, n.split()))\n",
    "print(length)"
   ]
  },
  {
   "cell_type": "code",
   "execution_count": 27,
   "id": "d5ca26b5-5490-4fd8-9325-fb4e326a26be",
   "metadata": {},
   "outputs": [
    {
     "name": "stdout",
     "output_type": "stream",
     "text": [
      "[11, 12, 13, 14, 15]\n"
     ]
    }
   ],
   "source": [
    "# Use map() with a lambda to add 10 to each number in a list \n",
    "\n",
    "def add(n):\n",
    "    return n + 10\n",
    "\n",
    "n = [1, 2, 3, 4, 5]\n",
    "a = list(map(add,n))\n",
    "print(a)"
   ]
  },
  {
   "cell_type": "code",
   "execution_count": 29,
   "id": "b84d5458-5503-4997-b47e-62d851f7f7fe",
   "metadata": {},
   "outputs": [
    {
     "name": "stdout",
     "output_type": "stream",
     "text": [
      "[55, 60, 90]\n"
     ]
    }
   ],
   "source": [
    "# Use filter() to get numbers greater than 50 from a list \n",
    "\n",
    "def is_greater(n):\n",
    "    return n > 50\n",
    "\n",
    "n = [10, 55, 60, 42, 90]\n",
    "filtered = list(filter(is_greater, n))\n",
    "print(filtered)"
   ]
  },
  {
   "cell_type": "code",
   "execution_count": 33,
   "id": "a82ddc9b-b798-4c2c-8c75-bfa0cf589795",
   "metadata": {},
   "outputs": [
    {
     "name": "stdout",
     "output_type": "stream",
     "text": [
      "99\n"
     ]
    }
   ],
   "source": [
    "# Use reduce() to find the maximum value in a list\n",
    "\n",
    "from functools import reduce\n",
    "\n",
    "def max(a, b):\n",
    "    return a if a > b else b\n",
    "\n",
    "n = [5, 8, 12, 99, 23, 7]\n",
    "maxi = reduce(max, n)\n",
    "print(maxi)"
   ]
  },
  {
   "cell_type": "code",
   "execution_count": 35,
   "id": "e9fedaf2-52e8-4a67-bd1c-e508a8fa8eec",
   "metadata": {},
   "outputs": [
    {
     "name": "stdin",
     "output_type": "stream",
     "text": [
      "Enter a string akash\n"
     ]
    },
    {
     "name": "stdout",
     "output_type": "stream",
     "text": [
      "The length of string is  5\n"
     ]
    }
   ],
   "source": [
    "# Write a Python program that takes a string from the user and prints the number of characters in it.\n",
    "\n",
    "n=input(\"Enter a string\")\n",
    "length=len(n)\n",
    "print(\"The length of string is \",length)"
   ]
  },
  {
   "cell_type": "code",
   "execution_count": 37,
   "id": "13ab505c-8c79-4c87-aafe-14d6d09c8f04",
   "metadata": {},
   "outputs": [
    {
     "name": "stdin",
     "output_type": "stream",
     "text": [
      "Enter a string akash\n"
     ]
    },
    {
     "name": "stdout",
     "output_type": "stream",
     "text": [
      "First letter:  a , Last digit:  h\n"
     ]
    }
   ],
   "source": [
    "# Take a string from the user and print its first and last characters\n",
    "\n",
    "n = input(\"Enter a string\")\n",
    "print(\"First letter: \",n[0],\", Last digit: \",n[-1])"
   ]
  },
  {
   "cell_type": "code",
   "execution_count": 49,
   "id": "a01d957d-9b6d-4452-a3dd-4478bd4e8454",
   "metadata": {},
   "outputs": [
    {
     "name": "stdin",
     "output_type": "stream",
     "text": [
      "Enter a string 1234d\n"
     ]
    },
    {
     "name": "stdout",
     "output_type": "stream",
     "text": [
      "This string does not contains only digit\n"
     ]
    }
   ],
   "source": [
    "# Take a string and check if it contains only digits.\n",
    "\n",
    "n=input(\"Enter a string\")\n",
    "\n",
    "if n.isdigit():\n",
    "    print(\"This string contains only digits\")\n",
    "else:\n",
    "    print(\"This string does not contains only digit\")"
   ]
  },
  {
   "cell_type": "code",
   "execution_count": 55,
   "id": "21bc6724-e5cc-468b-ac9d-7522deea2945",
   "metadata": {},
   "outputs": [
    {
     "name": "stdin",
     "output_type": "stream",
     "text": [
      "Enter a string akash\n",
      "Enter a character you want to count in given string a\n"
     ]
    },
    {
     "name": "stdout",
     "output_type": "stream",
     "text": [
      "The character  a  in the string  akash  is present  2  times\n"
     ]
    }
   ],
   "source": [
    "# Take a string and a character from the user. Count how many times the character appears in the string.\n",
    "\n",
    "n=input(\"Enter a string\")\n",
    "c=input(\"Enter a character you want to count in given string\")\n",
    "\n",
    "cout=n.count(c)\n",
    "print(\"The character \",c,\" in the string \",n,\" is present \",cout,\" times\")"
   ]
  },
  {
   "cell_type": "code",
   "execution_count": 59,
   "id": "f4d428ae-9732-421c-bd90-4d6a5b577f8d",
   "metadata": {},
   "outputs": [
    {
     "name": "stdin",
     "output_type": "stream",
     "text": [
      "Enter a sentence:  hii my name is akash\n",
      "Enter a new word to replace:  sky\n",
      "Enter a word to replace with:  akash\n"
     ]
    },
    {
     "name": "stdout",
     "output_type": "stream",
     "text": [
      "hii my name is sky\n"
     ]
    }
   ],
   "source": [
    "# Take a sentence, a word to replace, and the new word from the user. Replace it in the sentence\n",
    "\n",
    "n=input(\"Enter a sentence: \")\n",
    "new=input(\"Enter a new word to replace: \")\n",
    "old=input(\"Enter a word to replace with: \")\n",
    "\n",
    "sentence=n.replace(old,new)\n",
    "print(sentence)"
   ]
  },
  {
   "cell_type": "code",
   "execution_count": 65,
   "id": "e32c8bc0-68ff-4532-b717-2563082ba597",
   "metadata": {},
   "outputs": [
    {
     "name": "stdin",
     "output_type": "stream",
     "text": [
      "Enter a string:  akash\n"
     ]
    },
    {
     "name": "stdout",
     "output_type": "stream",
     "text": [
      "hsaka\n"
     ]
    }
   ],
   "source": [
    "# take a string and print it in reverse order.\n",
    "\n",
    "n=input(\"Enter a string: \")\n",
    "print(n[::-1])"
   ]
  },
  {
   "cell_type": "code",
   "execution_count": 67,
   "id": "17395b8c-6c1f-429b-bf20-2171a49bf1ad",
   "metadata": {},
   "outputs": [
    {
     "name": "stdin",
     "output_type": "stream",
     "text": [
      "Enter a comma seperated list:  apple,banana,mango,graphs\n"
     ]
    },
    {
     "name": "stdout",
     "output_type": "stream",
     "text": [
      "['apple', 'banana', 'mango', 'graphs']\n"
     ]
    }
   ],
   "source": [
    "# Take a comma-separated string from the user and split it into a list.\n",
    "\n",
    "n=input(\"Enter a comma seperated list: \")\n",
    "items= list(map(str.strip, n.split(',')))\n",
    "print(items)"
   ]
  },
  {
   "cell_type": "code",
   "execution_count": 71,
   "id": "0e443493-5e0c-4a06-8a41-5186063c128a",
   "metadata": {},
   "outputs": [
    {
     "name": "stdin",
     "output_type": "stream",
     "text": [
      "Enter a string:  abcba\n"
     ]
    },
    {
     "name": "stdout",
     "output_type": "stream",
     "text": [
      "The string is Palindrome\n"
     ]
    }
   ],
   "source": [
    "# Take a string input and check whether it is a palindrome (same forward and backward)\n",
    "\n",
    "n=input(\"Enter a string: \")\n",
    "rev=n[::-1]\n",
    "\n",
    "if n==rev:\n",
    "    print(\"The string is Palindrome\")\n",
    "else:\n",
    "    print(\"The string is not Palindrome\")"
   ]
  },
  {
   "cell_type": "code",
   "execution_count": 91,
   "id": "031b2819-88de-448e-9951-a0e45a15c4fa",
   "metadata": {},
   "outputs": [
    {
     "name": "stdin",
     "output_type": "stream",
     "text": [
      "Enter 1st name of user:  Akash\n",
      "Enter Last name of user:  Deshmukh\n"
     ]
    },
    {
     "name": "stdout",
     "output_type": "stream",
     "text": [
      "akash.deshmukh\n"
     ]
    }
   ],
   "source": [
    "# Take first name and last name from the user, and print a username in the format firstname.lastname (all lowercase).\n",
    "\n",
    "first=input(\"Enter 1st name of user: \").lower()\n",
    "last=input(\"Enter Last name of user: \").lower()\n",
    "print(f\"{first}.{last}\")"
   ]
  },
  {
   "cell_type": "code",
   "execution_count": 93,
   "id": "4ea685f2-3b06-499c-835f-c396199e35af",
   "metadata": {},
   "outputs": [
    {
     "name": "stdin",
     "output_type": "stream",
     "text": [
      "Enter your email address:  deshmukh@akash\n"
     ]
    },
    {
     "name": "stdout",
     "output_type": "stream",
     "text": [
      "Domain name is: akash\n"
     ]
    }
   ],
   "source": [
    "# Take an email address from the user and extract the domain name (text after the @)\n",
    "\n",
    "email = input(\"Enter your email address: \")\n",
    "if \"@\" in email:\n",
    "    domain = email.split('@')[1]\n",
    "    print(\"Domain name is:\", domain)\n",
    "else:\n",
    "    print(\"Invalid email address. '@' symbol not found.\")"
   ]
  },
  {
   "cell_type": "code",
   "execution_count": null,
   "id": "09ce188c-486d-4b57-9013-7565cb2deec0",
   "metadata": {},
   "outputs": [],
   "source": []
  }
 ],
 "metadata": {
  "kernelspec": {
   "display_name": "Python 3 (ipykernel)",
   "language": "python",
   "name": "python3"
  },
  "language_info": {
   "codemirror_mode": {
    "name": "ipython",
    "version": 3
   },
   "file_extension": ".py",
   "mimetype": "text/x-python",
   "name": "python",
   "nbconvert_exporter": "python",
   "pygments_lexer": "ipython3",
   "version": "3.12.4"
  }
 },
 "nbformat": 4,
 "nbformat_minor": 5
}
