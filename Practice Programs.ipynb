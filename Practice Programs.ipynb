{
 "cells": [
  {
   "cell_type": "markdown",
   "id": "77cb85be-f11f-4515-afeb-bf640cf10bca",
   "metadata": {},
   "source": [
    "# Daily Python Programs"
   ]
  },
  {
   "cell_type": "markdown",
   "id": "5ac0d5c0-7557-4e7b-a209-c05b2cebf33b",
   "metadata": {},
   "source": [
    "**Q) Print numbers from 1 to n using recursion.**"
   ]
  },
  {
   "cell_type": "code",
   "execution_count": 5,
   "id": "6b624ef7-ae52-4884-a2e2-4a73dba36d5e",
   "metadata": {},
   "outputs": [
    {
     "name": "stdout",
     "output_type": "stream",
     "text": [
      "1\n",
      "2\n",
      "3\n",
      "4\n",
      "5\n",
      "6\n",
      "7\n",
      "8\n",
      "9\n",
      "10\n"
     ]
    }
   ],
   "source": [
    "def numbers(n):\n",
    "    if n == 0:\n",
    "        return 0\n",
    "    numbers(n-1)\n",
    "    print(n)\n",
    "numbers(10)"
   ]
  },
  {
   "cell_type": "markdown",
   "id": "e329db4c-4b33-426d-99f2-f79e812f2427",
   "metadata": {},
   "source": [
    "**Q) Write a recursive function to count how many digits are in a number**"
   ]
  },
  {
   "cell_type": "code",
   "execution_count": 18,
   "id": "b190b71c-1b50-4c51-9aaf-1585b247dc8a",
   "metadata": {},
   "outputs": [
    {
     "name": "stdout",
     "output_type": "stream",
     "text": [
      "5\n"
     ]
    }
   ],
   "source": [
    "def count_digits(n):\n",
    "    if n == 0:\n",
    "        return 0\n",
    "    return 1 + count_digits(n // 10)\n",
    "print(count_digits(12345))"
   ]
  },
  {
   "cell_type": "markdown",
   "id": "f6ee2a96-d6c8-4ad9-9839-0a2a8a52585f",
   "metadata": {},
   "source": [
    "**Q) Write a lambda to return the last character of a string**"
   ]
  },
  {
   "cell_type": "code",
   "execution_count": null,
   "id": "05e044b7-4e8f-4a99-8961-dc3bc9ac6d77",
   "metadata": {},
   "outputs": [],
   "source": [
    "last_char = lambda s: s[-1]\n",
    "print(last_char(\"Akash\"))"
   ]
  },
  {
   "cell_type": "markdown",
   "id": "bbfd2358-4086-49f5-852b-d9993d20f780",
   "metadata": {},
   "source": [
    "**Q) Use map() to find the length of each word in a sentence**"
   ]
  },
  {
   "cell_type": "code",
   "execution_count": 23,
   "id": "cab0ff08-2c48-4537-b1de-ee72a012dcde",
   "metadata": {},
   "outputs": [
    {
     "name": "stdout",
     "output_type": "stream",
     "text": [
      "[2, 5]\n"
     ]
    }
   ],
   "source": [
    "n= \"Hi there\"\n",
    "length = list(map(len, n.split()))\n",
    "print(length)"
   ]
  },
  {
   "cell_type": "markdown",
   "id": "b4ab2f52-b685-4e40-9228-c547b784d26a",
   "metadata": {},
   "source": [
    "**Q) Use map() with a lambda to add 10 to each number in a list**"
   ]
  },
  {
   "cell_type": "code",
   "execution_count": 27,
   "id": "d5ca26b5-5490-4fd8-9325-fb4e326a26be",
   "metadata": {},
   "outputs": [
    {
     "name": "stdout",
     "output_type": "stream",
     "text": [
      "[11, 12, 13, 14, 15]\n"
     ]
    }
   ],
   "source": [
    "def add(n):\n",
    "    return n + 10\n",
    "\n",
    "n = [1, 2, 3, 4, 5]\n",
    "a = list(map(add,n))\n",
    "print(a)"
   ]
  },
  {
   "cell_type": "markdown",
   "id": "d4c0e760-e0aa-4e3c-be3a-6ef2b2bdd9c3",
   "metadata": {},
   "source": [
    "**Q) Use filter() to get numbers greater than 50 from a list**"
   ]
  },
  {
   "cell_type": "code",
   "execution_count": 29,
   "id": "b84d5458-5503-4997-b47e-62d851f7f7fe",
   "metadata": {},
   "outputs": [
    {
     "name": "stdout",
     "output_type": "stream",
     "text": [
      "[55, 60, 90]\n"
     ]
    }
   ],
   "source": [
    "def is_greater(n):\n",
    "    return n > 50\n",
    "\n",
    "n = [10, 55, 60, 42, 90]\n",
    "filtered = list(filter(is_greater, n))\n",
    "print(filtered)"
   ]
  },
  {
   "cell_type": "markdown",
   "id": "7a4293c1-ed5c-41e8-9261-699d685f2c1a",
   "metadata": {},
   "source": [
    "**Q) Use reduce() to find the maximum value in a list**"
   ]
  },
  {
   "cell_type": "code",
   "execution_count": 33,
   "id": "a82ddc9b-b798-4c2c-8c75-bfa0cf589795",
   "metadata": {},
   "outputs": [
    {
     "name": "stdout",
     "output_type": "stream",
     "text": [
      "99\n"
     ]
    }
   ],
   "source": [
    "from functools import reduce\n",
    "\n",
    "def max(a, b):\n",
    "    return a if a > b else b\n",
    "\n",
    "n = [5, 8, 12, 99, 23, 7]\n",
    "maxi = reduce(max, n)\n",
    "print(maxi)"
   ]
  },
  {
   "cell_type": "markdown",
   "id": "ac64c250-10f6-493c-8e23-b2fe09b37b79",
   "metadata": {},
   "source": [
    "**Q) Write a Python program that takes a string from the user and prints the number of characters in it.**"
   ]
  },
  {
   "cell_type": "code",
   "execution_count": 35,
   "id": "e9fedaf2-52e8-4a67-bd1c-e508a8fa8eec",
   "metadata": {},
   "outputs": [
    {
     "name": "stdout",
     "output_type": "stream",
     "text": [
      "Enter a string akash\n"
     ]
    },
    {
     "name": "stdout",
     "output_type": "stream",
     "text": [
      "The length of string is  5\n"
     ]
    }
   ],
   "source": [
    "n=input(\"Enter a string\")\n",
    "length=len(n)\n",
    "print(\"The length of string is \",length)"
   ]
  },
  {
   "cell_type": "markdown",
   "id": "c25c750c-3c88-4bab-bc36-9d89ffb7fd83",
   "metadata": {},
   "source": [
    "**Q) Take a string from the user and print its first and last characters**"
   ]
  },
  {
   "cell_type": "code",
   "execution_count": 37,
   "id": "13ab505c-8c79-4c87-aafe-14d6d09c8f04",
   "metadata": {},
   "outputs": [
    {
     "name": "stdout",
     "output_type": "stream",
     "text": [
      "Enter a string akash\n"
     ]
    },
    {
     "name": "stdout",
     "output_type": "stream",
     "text": [
      "First letter:  a , Last digit:  h\n"
     ]
    }
   ],
   "source": [
    "n = input(\"Enter a string\")\n",
    "print(\"First letter: \",n[0],\", Last digit: \",n[-1])"
   ]
  },
  {
   "cell_type": "markdown",
   "id": "4e322d30-582b-4b96-8c2b-0f9db4d6a678",
   "metadata": {},
   "source": [
    "**Q) Take a string and check if it contains only digits**"
   ]
  },
  {
   "cell_type": "code",
   "execution_count": 49,
   "id": "a01d957d-9b6d-4452-a3dd-4478bd4e8454",
   "metadata": {},
   "outputs": [
    {
     "name": "stdout",
     "output_type": "stream",
     "text": [
      "Enter a string 1234d\n"
     ]
    },
    {
     "name": "stdout",
     "output_type": "stream",
     "text": [
      "This string does not contains only digit\n"
     ]
    }
   ],
   "source": [
    "n=input(\"Enter a string\")\n",
    "\n",
    "if n.isdigit():\n",
    "    print(\"This string contains only digits\")\n",
    "else:\n",
    "    print(\"This string does not contains only digit\")"
   ]
  },
  {
   "cell_type": "markdown",
   "id": "42214361-ec87-4737-a84c-138d01d2c93a",
   "metadata": {},
   "source": [
    "**Q) Take a string and a character from the user. Count how many times the character appears in the string.**"
   ]
  },
  {
   "cell_type": "code",
   "execution_count": 55,
   "id": "21bc6724-e5cc-468b-ac9d-7522deea2945",
   "metadata": {},
   "outputs": [
    {
     "name": "stdout",
     "output_type": "stream",
     "text": [
      "Enter a string akash\n",
      "Enter a character you want to count in given string a\n"
     ]
    },
    {
     "name": "stdout",
     "output_type": "stream",
     "text": [
      "The character  a  in the string  akash  is present  2  times\n"
     ]
    }
   ],
   "source": [
    "n=input(\"Enter a string\")\n",
    "c=input(\"Enter a character you want to count in given string\")\n",
    "\n",
    "cout=n.count(c)\n",
    "print(\"The character \",c,\" in the string \",n,\" is present \",cout,\" times\")"
   ]
  },
  {
   "cell_type": "markdown",
   "id": "51bd64b9-d8bc-4fb2-9e39-9a9b3fbfd13f",
   "metadata": {},
   "source": [
    "**Q) Take a sentence, a word to replace, and the new word from the user. Replace it in the sentence**"
   ]
  },
  {
   "cell_type": "code",
   "execution_count": 59,
   "id": "f4d428ae-9732-421c-bd90-4d6a5b577f8d",
   "metadata": {},
   "outputs": [
    {
     "name": "stdout",
     "output_type": "stream",
     "text": [
      "Enter a sentence:  hii my name is akash\n",
      "Enter a new word to replace:  sky\n",
      "Enter a word to replace with:  akash\n"
     ]
    },
    {
     "name": "stdout",
     "output_type": "stream",
     "text": [
      "hii my name is sky\n"
     ]
    }
   ],
   "source": [
    "n=input(\"Enter a sentence: \")\n",
    "new=input(\"Enter a new word to replace: \")\n",
    "old=input(\"Enter a word to replace with: \")\n",
    "\n",
    "sentence=n.replace(old,new)\n",
    "print(sentence)"
   ]
  },
  {
   "cell_type": "markdown",
   "id": "829ffcd1-b67e-4c43-9f55-b833ed612939",
   "metadata": {},
   "source": [
    "**Q) Take a string and print it in reverse order.**"
   ]
  },
  {
   "cell_type": "code",
   "execution_count": 65,
   "id": "e32c8bc0-68ff-4532-b717-2563082ba597",
   "metadata": {},
   "outputs": [
    {
     "name": "stdout",
     "output_type": "stream",
     "text": [
      "Enter a string:  akash\n"
     ]
    },
    {
     "name": "stdout",
     "output_type": "stream",
     "text": [
      "hsaka\n"
     ]
    }
   ],
   "source": [
    "n=input(\"Enter a string: \")\n",
    "print(n[::-1])"
   ]
  },
  {
   "cell_type": "markdown",
   "id": "c24c75f1-3bf5-4a7f-afaa-0b48d48740b3",
   "metadata": {},
   "source": [
    "**Q) Take a comma-separated string from the user and split it into a list.**"
   ]
  },
  {
   "cell_type": "code",
   "execution_count": 67,
   "id": "17395b8c-6c1f-429b-bf20-2171a49bf1ad",
   "metadata": {},
   "outputs": [
    {
     "name": "stdout",
     "output_type": "stream",
     "text": [
      "Enter a comma seperated list:  apple,banana,mango,graphs\n"
     ]
    },
    {
     "name": "stdout",
     "output_type": "stream",
     "text": [
      "['apple', 'banana', 'mango', 'graphs']\n"
     ]
    }
   ],
   "source": [
    "n=input(\"Enter a comma seperated list: \")\n",
    "items= list(map(str.strip, n.split(',')))\n",
    "print(items)"
   ]
  },
  {
   "cell_type": "markdown",
   "id": "de26c628-fbca-483c-8f41-94a74b1f252f",
   "metadata": {},
   "source": [
    "**Q) Take a string input and check whether it is a palindrome (same forward and backward)**"
   ]
  },
  {
   "cell_type": "code",
   "execution_count": 71,
   "id": "0e443493-5e0c-4a06-8a41-5186063c128a",
   "metadata": {},
   "outputs": [
    {
     "name": "stdout",
     "output_type": "stream",
     "text": [
      "Enter a string:  abcba\n"
     ]
    },
    {
     "name": "stdout",
     "output_type": "stream",
     "text": [
      "The string is Palindrome\n"
     ]
    }
   ],
   "source": [
    "n=input(\"Enter a string: \")\n",
    "rev=n[::-1]\n",
    "\n",
    "if n==rev:\n",
    "    print(\"The string is Palindrome\")\n",
    "else:\n",
    "    print(\"The string is not Palindrome\")"
   ]
  },
  {
   "cell_type": "markdown",
   "id": "9820305b-2fde-4391-95e3-0e38c1099ac5",
   "metadata": {},
   "source": [
    "**Q) Take first name and last name from the user, and print a username in the format firstname.lastname (all lowercase).**"
   ]
  },
  {
   "cell_type": "code",
   "execution_count": 91,
   "id": "031b2819-88de-448e-9951-a0e45a15c4fa",
   "metadata": {},
   "outputs": [
    {
     "name": "stdout",
     "output_type": "stream",
     "text": [
      "Enter 1st name of user:  Akash\n",
      "Enter Last name of user:  Deshmukh\n"
     ]
    },
    {
     "name": "stdout",
     "output_type": "stream",
     "text": [
      "akash.deshmukh\n"
     ]
    }
   ],
   "source": [
    "first=input(\"Enter 1st name of user: \").lower()\n",
    "last=input(\"Enter Last name of user: \").lower()\n",
    "print(f\"{first}.{last}\")"
   ]
  },
  {
   "cell_type": "markdown",
   "id": "e4052e4d-0e75-4b4e-87ac-64348059d4ab",
   "metadata": {},
   "source": [
    "**Q) Take an email address from the user and extract the domain name (text after the @)**"
   ]
  },
  {
   "cell_type": "code",
   "execution_count": 93,
   "id": "4ea685f2-3b06-499c-835f-c396199e35af",
   "metadata": {},
   "outputs": [
    {
     "name": "stdout",
     "output_type": "stream",
     "text": [
      "Enter your email address:  deshmukh@akash\n"
     ]
    },
    {
     "name": "stdout",
     "output_type": "stream",
     "text": [
      "Domain name is: akash\n"
     ]
    }
   ],
   "source": [
    "email = input(\"Enter your email address: \")\n",
    "if \"@\" in email:\n",
    "    domain = email.split('@')[1]\n",
    "    print(\"Domain name is:\", domain)\n",
    "else:\n",
    "    print(\"Invalid email address. '@' symbol not found.\")"
   ]
  },
  {
   "cell_type": "markdown",
   "id": "a91f110a-79f5-4b39-889e-74f812160653",
   "metadata": {},
   "source": [
    "**Q) Take a list of integers from the user and a new number to add. Append it to the list and print the result.**"
   ]
  },
  {
   "cell_type": "code",
   "execution_count": 1,
   "id": "09ce188c-486d-4b57-9013-7565cb2deec0",
   "metadata": {},
   "outputs": [
    {
     "name": "stdin",
     "output_type": "stream",
     "text": [
      "Enter a list of integers separated by spaces:  2 4 6 7 8\n",
      "Enter a number to append:  9\n"
     ]
    },
    {
     "name": "stdout",
     "output_type": "stream",
     "text": [
      "Updated list: [2, 4, 6, 7, 8, 9]\n"
     ]
    }
   ],
   "source": [
    "user_input = input(\"Enter a list of integers separated by spaces: \")\n",
    "int_list = list(map(int, user_input.split()))\n",
    "\n",
    "new_number = int(input(\"Enter a number to append: \"))\n",
    "\n",
    "int_list.append(new_number)\n",
    "\n",
    "print(\"Updated list:\", int_list)"
   ]
  },
  {
   "cell_type": "markdown",
   "id": "981bd5cc-1967-472f-b69e-b671cd0551e1",
   "metadata": {},
   "source": [
    "**Q) Take comma-separated input from the user and store it as a tuple. Print the tuple**"
   ]
  },
  {
   "cell_type": "code",
   "execution_count": 3,
   "id": "cd7b1029-e136-4722-985d-c9f9317a52f0",
   "metadata": {},
   "outputs": [
    {
     "name": "stdin",
     "output_type": "stream",
     "text": [
      "Enter comma seperated text:  Akash,Deshmukh,007\n"
     ]
    },
    {
     "name": "stdout",
     "output_type": "stream",
     "text": [
      "('Akash', 'Deshmukh', '007')\n"
     ]
    }
   ],
   "source": [
    "n=input(\"Enter comma seperated text: \")\n",
    "tup= tuple(n.split(\",\"))\n",
    "print(tup)"
   ]
  },
  {
   "cell_type": "markdown",
   "id": "79effb98-4762-4c96-af1a-54cb28553ec2",
   "metadata": {},
   "source": [
    "**Q) Take a list from the user and convert it into a tuple.**"
   ]
  },
  {
   "cell_type": "code",
   "execution_count": 7,
   "id": "732a0f7c-ff01-432d-aa3b-49efef075230",
   "metadata": {},
   "outputs": [
    {
     "name": "stdin",
     "output_type": "stream",
     "text": [
      "Enter a list:  akash deshmukh\n"
     ]
    },
    {
     "name": "stdout",
     "output_type": "stream",
     "text": [
      "('akash', 'deshmukh')\n"
     ]
    }
   ],
   "source": [
    "n=input(\"Enter a list: \")\n",
    "n1=tuple(n.split())\n",
    "print(n1)"
   ]
  },
  {
   "cell_type": "markdown",
   "id": "d635aba8-8a11-4872-8951-973b1bac6d5c",
   "metadata": {},
   "source": [
    "**Q) Take a list of numbers from the user and print the total sum.**"
   ]
  },
  {
   "cell_type": "code",
   "execution_count": 15,
   "id": "9aea4caa-9070-4845-ad9f-be06854022c7",
   "metadata": {},
   "outputs": [
    {
     "name": "stdin",
     "output_type": "stream",
     "text": [
      "Enter list of numbers seperated by space:  2 3 4 5\n"
     ]
    },
    {
     "name": "stdout",
     "output_type": "stream",
     "text": [
      "14\n"
     ]
    }
   ],
   "source": [
    "n=input(\"Enter list of numbers seperated by space: \")\n",
    "l=list(map(int,n.split()))\n",
    "add=sum(l)\n",
    "print(add)"
   ]
  },
  {
   "cell_type": "markdown",
   "id": "bb969aaa-5c40-4099-993c-804df995305b",
   "metadata": {},
   "source": [
    "**Q) Remove all duplicate values from a list and print the unique elements.**"
   ]
  },
  {
   "cell_type": "code",
   "execution_count": 17,
   "id": "4190db6f-bdda-485a-859d-17e367591e03",
   "metadata": {},
   "outputs": [
    {
     "name": "stdin",
     "output_type": "stream",
     "text": [
      "Enter list:  akash deshmukh akash 007 deshmukh\n"
     ]
    },
    {
     "name": "stdout",
     "output_type": "stream",
     "text": [
      "['deshmukh', '007', 'akash']\n"
     ]
    }
   ],
   "source": [
    "n=input(\"Enter list: \")\n",
    "l=n.split()\n",
    "unique=list(set(l))\n",
    "print(unique)"
   ]
  },
  {
   "cell_type": "markdown",
   "id": "72727c32-87e1-4b88-a4dd-230227c7e48c",
   "metadata": {},
   "source": [
    "**Q) Take a tuple from the user, convert it to a list, add a new item, and convert it back to a tuple.**"
   ]
  },
  {
   "cell_type": "code",
   "execution_count": 19,
   "id": "af3c1fad-cdfd-4180-9483-bbaca8457975",
   "metadata": {},
   "outputs": [
    {
     "name": "stdin",
     "output_type": "stream",
     "text": [
      "Enter tuple elements separated by commas:  0,7,6,5,4\n",
      "Enter a new item to add:  1\n"
     ]
    },
    {
     "name": "stdout",
     "output_type": "stream",
     "text": [
      "Updated tuple: ('0', '7', '6', '5', '4', '1')\n"
     ]
    }
   ],
   "source": [
    "user_input = input(\"Enter tuple elements separated by commas: \")\n",
    "original_tuple = tuple(user_input.split(','))\n",
    "temp_list = list(original_tuple)\n",
    "new_item = input(\"Enter a new item to add: \")\n",
    "temp_list.append(new_item)\n",
    "updated_tuple = tuple(temp_list)\n",
    "print(\"Updated tuple:\", updated_tuple)\n"
   ]
  },
  {
   "cell_type": "markdown",
   "id": "f680ea70-5f10-4d7f-bba4-f92595b73349",
   "metadata": {},
   "source": [
    "**Q) Take two sets from the user and print: Union, Intersection**"
   ]
  },
  {
   "cell_type": "code",
   "execution_count": 21,
   "id": "b17de0a2-67ce-4764-a19c-8002a4db444f",
   "metadata": {},
   "outputs": [
    {
     "name": "stdin",
     "output_type": "stream",
     "text": [
      "Enter elements of the first set (comma-separated):  2,3,4,5,6\n",
      "Enter elements of the second set (comma-separated):  1,3,5,6\n"
     ]
    },
    {
     "name": "stdout",
     "output_type": "stream",
     "text": [
      "Union: {'2', '4', '6', '1', '5', '3'}\n",
      "Intersection: {'6', '5', '3'}\n"
     ]
    }
   ],
   "source": [
    "set1_input = input(\"Enter elements of the first set (comma-separated): \")\n",
    "set2_input = input(\"Enter elements of the second set (comma-separated): \")\n",
    "\n",
    "set1 = set(set1_input.split(','))\n",
    "set2 = set(set2_input.split(','))\n",
    "\n",
    "union_result = set1.union(set2)\n",
    "intersection_result = set1.intersection(set2)\n",
    "\n",
    "print(\"Union:\", union_result)\n",
    "print(\"Intersection:\", intersection_result)\n"
   ]
  },
  {
   "cell_type": "markdown",
   "id": "a5a6d2ca-f949-41de-a807-17ba7a0c4943",
   "metadata": {},
   "source": [
    "**Q) Take a list with repeated elements and remove duplicates using a set.**"
   ]
  },
  {
   "cell_type": "code",
   "execution_count": 23,
   "id": "96babc6e-2613-49cb-98e9-ce8ebd7f9cb7",
   "metadata": {},
   "outputs": [
    {
     "name": "stdin",
     "output_type": "stream",
     "text": [
      "Enter list of repeated elements(comma seperated):  2,3,4,5,6,3,2,5\n"
     ]
    },
    {
     "name": "stdout",
     "output_type": "stream",
     "text": [
      "{'2', '4', '6', '5', '3'}\n"
     ]
    }
   ],
   "source": [
    "n=input(\"Enter list of repeated elements(comma seperated): \")\n",
    "res=set(n.split(\",\"))\n",
    "print(res)"
   ]
  },
  {
   "cell_type": "markdown",
   "id": "59df44ac-2519-4fcf-a416-5deb4555b30d",
   "metadata": {},
   "source": [
    "**Q) Take two dictionaries and merge them**"
   ]
  },
  {
   "cell_type": "code",
   "execution_count": 31,
   "id": "aea1aa61-6480-4a3f-aa0c-0f9a940425f3",
   "metadata": {},
   "outputs": [
    {
     "name": "stdout",
     "output_type": "stream",
     "text": [
      "{'Math': 85, 'Science': 90, 'English': 88, 'History': 76}\n"
     ]
    }
   ],
   "source": [
    "dict1 = {\"Math\": 85, \"Science\": 90}\n",
    "dict2 = {\"English\": 88, \"History\": 76}\n",
    "\n",
    "dict1.update(dict2)\n",
    "\n",
    "print(dict1)"
   ]
  },
  {
   "cell_type": "markdown",
   "id": "3b4000f1-9053-4301-97f9-e9eb017adff6",
   "metadata": {},
   "source": [
    "**Q) Write a program to read 3 sentences from the user and return a set of all unique words (case-insensitive).**"
   ]
  },
  {
   "cell_type": "code",
   "execution_count": 25,
   "id": "79858469-3325-48e6-b656-947ed2815d04",
   "metadata": {},
   "outputs": [
    {
     "name": "stdin",
     "output_type": "stream",
     "text": [
      "Enter 1st sentence:  hello my name is sky\n",
      "Enter 2nd sentence:  hello sky\n",
      "Enter 3rd sentence:  hey sky my name is akash\n"
     ]
    },
    {
     "name": "stdout",
     "output_type": "stream",
     "text": [
      "{'hello', 'my', 'hey', 'name', 'is', 'akash', 'sky'}\n"
     ]
    }
   ],
   "source": [
    "n1=input(\"Enter 1st sentence: \").lower()\n",
    "n2=input(\"Enter 2nd sentence: \").lower()\n",
    "n3=input(\"Enter 3rd sentence: \").lower()\n",
    "\n",
    "n4=n1+\" \"+n2+\" \"+n3\n",
    "res=set(n4.split())\n",
    "print(res)"
   ]
  },
  {
   "cell_type": "markdown",
   "id": "20a9db60-be05-426d-a67c-37047eaec3d7",
   "metadata": {},
   "source": [
    "**Q) Create a nested dictionary where keys are student names and values are another dictionary with subject:marks pairs.\n",
    "Then print the average marks of each student.**"
   ]
  },
  {
   "cell_type": "code",
   "execution_count": 29,
   "id": "cc0dcf3b-cee8-4705-9b7e-c5a7e4e68539",
   "metadata": {},
   "outputs": [
    {
     "name": "stdout",
     "output_type": "stream",
     "text": [
      "Akash's average marks: 87.67\n",
      "Sky's average marks: 80.00\n"
     ]
    }
   ],
   "source": [
    "students = {\n",
    "    \"Akash\": {\"Math\": 85, \"Science\": 90, \"English\": 88},\n",
    "    \"Sky\": {\"Math\": 78, \"Science\": 82, \"English\": 80},\n",
    "}\n",
    "for student, subjects in students.items():    \n",
    "    total_marks = sum(subjects.values())       \n",
    "    num = len(subjects)\n",
    "    average = total_marks / num\n",
    "    print(f\"{student}'s average marks: {average:.2f}\")"
   ]
  },
  {
   "cell_type": "markdown",
   "id": "c185211c-e6b6-4949-9e79-26d6daf9254e",
   "metadata": {},
   "source": [
    "**Q) Given a list of dictionaries, merge them into one and sum values for keys that appear multiple times.**"
   ]
  },
  {
   "cell_type": "code",
   "execution_count": 35,
   "id": "20ba64bc-fbe4-4d69-91c6-de16ba642d8c",
   "metadata": {},
   "outputs": [
    {
     "name": "stdout",
     "output_type": "stream",
     "text": [
      "Merged dictionary with summed values:\n",
      "{'a': 14, 'b': 7, 'c': 15, 'd': 4}\n"
     ]
    }
   ],
   "source": [
    "lists = [\n",
    "    {'a': 10, 'b': 5},\n",
    "    {'a': 3, 'c': 8},\n",
    "    {'b': 2, 'd': 4},\n",
    "    {'c': 7, 'a': 1}\n",
    "]\n",
    "merged_dict = {}\n",
    "\n",
    "for dicts in lists:\n",
    "    for key, value in dicts.items():\n",
    "        if key in merged_dict:\n",
    "            merged_dict[key] += value\n",
    "        else:\n",
    "            merged_dict[key] = value\n",
    "\n",
    "print(\"Merged dictionary with summed values:\")\n",
    "print(merged_dict)\n"
   ]
  },
  {
   "cell_type": "markdown",
   "id": "bf2d0610-40d0-4d1d-b5e2-b43673d88229",
   "metadata": {},
   "source": [
    "**Q)Write a Python program that takes a password as input and checks if it meets the following requirements:**\n",
    "\n",
    "- The password should be at least 8 characters long.\n",
    "- The password should contain at least one uppercase letter.\n",
    "- The password should contain at least one lowercase letter.\n",
    "- The password should contain at least one digit.\n",
    "\n",
    "**If the password meets all the requirements, the program should print \"Password is valid.\" Otherwise, it should print \"Password is invalid.\"**"
   ]
  },
  {
   "cell_type": "code",
   "execution_count": 19,
   "id": "5d850739-e14a-431b-bf7e-71ff741f2ffa",
   "metadata": {},
   "outputs": [
    {
     "name": "stdin",
     "output_type": "stream",
     "text": [
      "Enter a password (containing 1 Capital letter, 1 small letter and any number in it) :  akash\n"
     ]
    },
    {
     "name": "stdout",
     "output_type": "stream",
     "text": [
      "Password is invalid\n"
     ]
    }
   ],
   "source": [
    "n=input(\"Enter a password (containing 1 Capital letter, 1 small letter and any number in it) : \")\n",
    "upp=False\n",
    "low=False\n",
    "dig=False\n",
    "for i in n:\n",
    "    if i.isupper():\n",
    "        upp=True\n",
    "    elif i.islower():\n",
    "        low=True\n",
    "    elif i.isdigit():\n",
    "        dig=True\n",
    "\n",
    "if upp and low and dig and len(n) >= 8:\n",
    "    print(\"Password is valid\")\n",
    "else:\n",
    "    print(\"Password is invalid\")"
   ]
  },
  {
   "cell_type": "markdown",
   "id": "768f182d-cfdc-451e-ab73-581180e57df7",
   "metadata": {},
   "source": [
    "**Q) Write a Python program that takes two strings as input and checks \n",
    "if they're anagrams (i.e., the strings contain the same characters, \n",
    "but in a different order). If the strings are anagrams, \n",
    "the program should print \"The strings are anagrams.\" Otherwise, \n",
    "it should print \"The strings are not anagrams.\"**"
   ]
  },
  {
   "cell_type": "code",
   "execution_count": 31,
   "id": "9a37ad12-88cb-46a2-97ae-4831e46b1dfc",
   "metadata": {},
   "outputs": [
    {
     "name": "stdin",
     "output_type": "stream",
     "text": [
      "Enter 1st string:  akash\n",
      "Enter 2nd string:  akashs\n"
     ]
    },
    {
     "name": "stdout",
     "output_type": "stream",
     "text": [
      "The strings are not anagrams\n"
     ]
    }
   ],
   "source": [
    "str1=input(\"Enter 1st string: \").lower()\n",
    "str2=input(\"Enter 2nd string: \").lower()\n",
    "if sorted(str1) == sorted(str2):\n",
    "    print(\"The strings are Anagrams\")\n",
    "else:\n",
    "    print(\"The strings are not anagrams\")"
   ]
  },
  {
   "cell_type": "markdown",
   "id": "6313b255-33d0-4aa5-96fd-503852003396",
   "metadata": {},
   "source": [
    "**Exception Handling**\n"
   ]
  },
  {
   "cell_type": "code",
   "execution_count": 80,
   "id": "059822c6-3707-429e-a85e-93f3aed5013a",
   "metadata": {},
   "outputs": [
    {
     "name": "stdin",
     "output_type": "stream",
     "text": [
      "Enter a number:  f\n"
     ]
    },
    {
     "name": "stdout",
     "output_type": "stream",
     "text": [
      "Error:  invalid literal for int() with base 10: 'f'\n"
     ]
    }
   ],
   "source": [
    "try:\n",
    "    a=int(input(\"Enter a number: \"))\n",
    "    b=int(input(\"Enter 2nd number: \"))\n",
    "    print(a/b)\n",
    "except(ValueError,ZeroDivisionError) as e:\n",
    "    print(\"Error: \",e)\n",
    "    "
   ]
  },
  {
   "cell_type": "markdown",
   "id": "260fc671-448c-4098-95c8-948065687fb8",
   "metadata": {},
   "source": [
    "**Q) User has ₹5,000 in balance. Ask how much to withdraw. Handle non-numeric input and insufficient balance.**"
   ]
  },
  {
   "cell_type": "code",
   "execution_count": 96,
   "id": "357f3a3c-0d47-40a6-b642-551bcf9b4f21",
   "metadata": {},
   "outputs": [
    {
     "name": "stdin",
     "output_type": "stream",
     "text": [
      "Enter the amount you want to withdraw:  5001\n"
     ]
    },
    {
     "name": "stdout",
     "output_type": "stream",
     "text": [
      "insufficient balance\n"
     ]
    }
   ],
   "source": [
    "bal=5000\n",
    "try:\n",
    "    a=int(input(\"Enter the amount you want to withdraw: \"))\n",
    "except(ValueError) as e:\n",
    "    print(\"Please enter integer number\")\n",
    "\n",
    "if a> bal:\n",
    "    print(\"insufficient balance\")\n",
    "else:\n",
    "    print(\"Money diducted, available balance is: \",bal-a)\n",
    "    "
   ]
  },
  {
   "cell_type": "markdown",
   "id": "ef91e467-d4a3-4dc2-983b-89cfb2cfb2d1",
   "metadata": {},
   "source": [
    "**Q) Ask the user to enter a number. Convert it to an integer, but handle invalid values like alphabets or floats.**"
   ]
  },
  {
   "cell_type": "code",
   "execution_count": 105,
   "id": "a9b164fe-6c52-4ba5-b060-b5fb28f1050f",
   "metadata": {},
   "outputs": [
    {
     "name": "stdin",
     "output_type": "stream",
     "text": [
      "Enter a number:  12.5\n"
     ]
    },
    {
     "name": "stdout",
     "output_type": "stream",
     "text": [
      "Enter numeric value invalid literal for int() with base 10: '12.5'\n"
     ]
    }
   ],
   "source": [
    "try:\n",
    "    n=int(input(\"Enter a number: \"))\n",
    "    print(\"The integer number is: \",round(n))\n",
    "except(ValueError):\n",
    "    print(\"Enter Integer value\")"
   ]
  },
  {
   "cell_type": "markdown",
   "id": "c04cdfeb-662a-4a74-991a-2f6278f535e7",
   "metadata": {},
   "source": [
    "**Q) Ask the user to enter an email. Raise an exception if it doesn’t contain “@” or “.”.**"
   ]
  },
  {
   "cell_type": "code",
   "execution_count": 118,
   "id": "6c8d8446-d956-490b-9e79-17dc0718ca02",
   "metadata": {},
   "outputs": [
    {
     "name": "stdin",
     "output_type": "stream",
     "text": [
      "Enter your email:  deshmukh@gmail.com\n"
     ]
    },
    {
     "name": "stdout",
     "output_type": "stream",
     "text": [
      "Valid email entered: deshmukh@gmail.com\n"
     ]
    }
   ],
   "source": [
    "try:\n",
    "    email = input(\"Enter your email: \")\n",
    "    if \"@\" not in email or \".\" not in email:\n",
    "        raise ValueError(\"Invalid email: must contain '@' and '.'\")\n",
    "    print(f\"Valid email entered: {email}\")\n",
    "except ValueError as e:\n",
    "    print(e)"
   ]
  },
  {
   "cell_type": "markdown",
   "id": "5fc6d57a-5e9f-47f8-a76a-505127c7b429",
   "metadata": {},
   "source": [
    "**Q) Ask user for hours worked and hourly wage. If hours are more than 24 or negative, raise an error.**"
   ]
  },
  {
   "cell_type": "code",
   "execution_count": 125,
   "id": "e0b5f3d9-e7ca-4941-80f0-606e00d0eab2",
   "metadata": {},
   "outputs": [
    {
     "name": "stdin",
     "output_type": "stream",
     "text": [
      "Enter hours they worked:  3\n",
      "Enter hourly wage:  90\n"
     ]
    },
    {
     "name": "stdout",
     "output_type": "stream",
     "text": [
      "Total Pay : 270\n"
     ]
    }
   ],
   "source": [
    "try:\n",
    "    hrs=int(input(\"Enter hours they worked: \"))\n",
    "    hrs_wage=int(input(\"Enter hourly wage: \"))\n",
    "    if hrs>24 or hrs<0:\n",
    "        raise ValueError(\"Invalid hrs, Enter hrs between 0-24\")\n",
    "    print(\"Total Pay :\",hrs*hrs_wage)\n",
    "except(ValueError):\n",
    "    print(\"Enter hrs in integer\")"
   ]
  },
  {
   "cell_type": "markdown",
   "id": "61391632-c0ab-410f-bb3b-364e1013540b",
   "metadata": {},
   "source": [
    "**Q) Simulate a login system with a predefined username and password.**"
   ]
  },
  {
   "cell_type": "code",
   "execution_count": 51,
   "id": "1016b1f6-5468-42fc-bad2-ec63c90d30b2",
   "metadata": {},
   "outputs": [
    {
     "name": "stdin",
     "output_type": "stream",
     "text": [
      "Enter username:  akash\n",
      "Enter a password (containing 1 Capital letter, 1 small letter and any number in it) :  Akash007\n"
     ]
    },
    {
     "name": "stdout",
     "output_type": "stream",
     "text": [
      "Username matched, enter password again\n"
     ]
    },
    {
     "name": "stdin",
     "output_type": "stream",
     "text": [
      "Enter username:  akash\n",
      "Enter a password (containing 1 Capital letter, 1 small letter and any number in it) :  akash007\n"
     ]
    },
    {
     "name": "stdout",
     "output_type": "stream",
     "text": [
      "Password must contain 1 Capital letter, 1 small letter and any number\n"
     ]
    },
    {
     "name": "stdin",
     "output_type": "stream",
     "text": [
      "Enter username:  akash\n",
      "Enter a password (containing 1 Capital letter, 1 small letter and any number in it) :  Akash123\n"
     ]
    },
    {
     "name": "stdout",
     "output_type": "stream",
     "text": [
      "Username and Password Matched!!! Login successfull\n"
     ]
    }
   ],
   "source": [
    "while True:\n",
    "    username=input(\"Enter username: \").lower()\n",
    "    n=input(\"Enter a password (containing 1 Capital letter, 1 small letter and any number in it) : \")\n",
    "    \n",
    "    upp=False\n",
    "    low=False\n",
    "    dig=False\n",
    "    for i in n:\n",
    "        if i.isupper():\n",
    "            upp=True\n",
    "        elif i.islower():\n",
    "            low=True\n",
    "        elif i.isdigit():\n",
    "            dig=True\n",
    "    \n",
    "    user=\"akash\"\n",
    "    pas=\"Akash123\"\n",
    "    if upp and low and dig and len(n) >= 8:\n",
    "        if username == user:\n",
    "            if n==pas:\n",
    "                print(\"Username and Password Matched!!! Login successfull\")\n",
    "                break\n",
    "            else:\n",
    "                print(\"Username matched, enter password again\")\n",
    "        else:\n",
    "            print(\"Username and password invalid\")\n",
    "    else:\n",
    "        print(\"Password must contain 1 Capital letter, 1 small letter and any number\")"
   ]
  },
  {
   "cell_type": "markdown",
   "id": "85b28ddb-ea33-494f-b264-77f2c80cb7b3",
   "metadata": {},
   "source": [
    "**Q) Python program to find cube of number entered by the user**"
   ]
  },
  {
   "cell_type": "code",
   "execution_count": 47,
   "id": "b09aa666-b67e-4b01-9ab0-b3952a5330de",
   "metadata": {},
   "outputs": [
    {
     "name": "stdin",
     "output_type": "stream",
     "text": [
      "Enter a number:  e\n"
     ]
    },
    {
     "name": "stdout",
     "output_type": "stream",
     "text": [
      "invalid literal for int() with base 10: 'e'\n",
      "Enter integer value\n"
     ]
    },
    {
     "name": "stdin",
     "output_type": "stream",
     "text": [
      "Enter a number:  -1\n"
     ]
    },
    {
     "name": "stdout",
     "output_type": "stream",
     "text": [
      "Enter value Greater than 0\n"
     ]
    },
    {
     "name": "stdin",
     "output_type": "stream",
     "text": [
      "Enter a number:  4\n"
     ]
    },
    {
     "name": "stdout",
     "output_type": "stream",
     "text": [
      "Cube of 4 is:  64\n"
     ]
    }
   ],
   "source": [
    "while True:\n",
    "    try:\n",
    "        n=int(input(\"Enter a number: \"))\n",
    "        if n<0:\n",
    "            print(\"Enter value Greater than 0\")\n",
    "        else:\n",
    "            print(\"Cube of\",n,\"is: \",n**3)\n",
    "            break\n",
    "    except(ValueError) as e:\n",
    "        print(e)\n",
    "        print(\"Enter integer value\")"
   ]
  },
  {
   "cell_type": "markdown",
   "id": "49330d42-0352-4f21-bdf3-b05e38496607",
   "metadata": {},
   "source": [
    "**Q) Take input of multiple students (name, marks in 3 subjects), calculate average, assign grade, and display a report card.**\n"
   ]
  },
  {
   "cell_type": "code",
   "execution_count": 54,
   "id": "281c69d1-b978-4e20-8615-a6c4832d3783",
   "metadata": {},
   "outputs": [
    {
     "name": "stdin",
     "output_type": "stream",
     "text": [
      "Enter number of students:  2\n"
     ]
    },
    {
     "name": "stdout",
     "output_type": "stream",
     "text": [
      "\n",
      "Enter details for student 1:\n"
     ]
    },
    {
     "name": "stdin",
     "output_type": "stream",
     "text": [
      "Name:  Akash\n",
      "Enter marks for subject 1:  90\n",
      "Enter marks for subject 2:  23\n",
      "Enter marks for subject 3:  67\n"
     ]
    },
    {
     "name": "stdout",
     "output_type": "stream",
     "text": [
      "\n",
      "Enter details for student 2:\n"
     ]
    },
    {
     "name": "stdin",
     "output_type": "stream",
     "text": [
      "Name:  Sky\n",
      "Enter marks for subject 1:  90\n",
      "Enter marks for subject 2:  78\n",
      "Enter marks for subject 3:  45\n"
     ]
    },
    {
     "name": "stdout",
     "output_type": "stream",
     "text": [
      "\n",
      "--- Report Card ---\n",
      "\n",
      "Name: Akash\n",
      "Marks: [90.0, 23.0, 67.0]\n",
      "Average: 60.00\n",
      "Grade: C\n",
      "\n",
      "Name: Sky\n",
      "Marks: [90.0, 78.0, 45.0]\n",
      "Average: 71.00\n",
      "Grade: B\n"
     ]
    }
   ],
   "source": [
    "def calculate_grade(avg):\n",
    "    if avg >= 90:\n",
    "        return 'A+'\n",
    "    elif avg >= 80:\n",
    "        return 'A'\n",
    "    elif avg >= 70:\n",
    "        return 'B'\n",
    "    elif avg >= 60:\n",
    "        return 'C'\n",
    "    elif avg >= 50:\n",
    "        return 'D'\n",
    "    else:\n",
    "        return 'F'\n",
    "students = []\n",
    "num_students = int(input(\"Enter number of students: \"))\n",
    "\n",
    "for i in range(num_students):\n",
    "    print(f\"\\nEnter details for student {i+1}:\")\n",
    "    name = input(\"Name: \")\n",
    "    marks = []\n",
    "    for j in range(1, 4):\n",
    "        mark = float(input(f\"Enter marks for subject {j}: \"))\n",
    "        marks.append(mark)\n",
    "    average = sum(marks) / 3\n",
    "    grade = calculate_grade(average)\n",
    "    students.append({\"name\": name, \"marks\": marks, \"average\": average, \"grade\": grade})\n",
    "\n",
    "print(\"\\n--- Report Card ---\")\n",
    "for student in students:\n",
    "    print(f\"\\nName: {student['name']}\")\n",
    "    print(f\"Marks: {student['marks']}\")\n",
    "    print(f\"Average: {student['average']:.2f}\")\n",
    "    print(f\"Grade: {student['grade']}\")"
   ]
  },
  {
   "cell_type": "markdown",
   "id": "68d9d458-4197-48bb-a96a-4280895ec7bf",
   "metadata": {},
   "source": [
    "**Q) emperature Converter with Menu**\n",
    "\n",
    "Convert:\n",
    "- Celsius ↔ Fahrenheit\n",
    "- Celsius ↔ Kelvin\n",
    "\n",
    " **Use functions and a looped menu for navigation.**"
   ]
  },
  {
   "cell_type": "code",
   "execution_count": 64,
   "id": "d9f1eaaf-c1c6-4178-b39c-298245d4a7ee",
   "metadata": {},
   "outputs": [
    {
     "name": "stdout",
     "output_type": "stream",
     "text": [
      "\n",
      "--- Temperature Converter ---\n",
      "1. Celsius to Fahrenheit\n",
      "2. Fahrenheit to Celsius\n",
      "3. Celsius to Kelvin\n",
      "4. Kelvin to Celsius\n",
      "5. Exit\n"
     ]
    },
    {
     "name": "stdin",
     "output_type": "stream",
     "text": [
      "Enter your choice (1-5):  1\n",
      "Enter temperature in Celsius:  40\n"
     ]
    },
    {
     "name": "stdout",
     "output_type": "stream",
     "text": [
      "Temperature in Fahrenheit: 104.00°F\n",
      "\n",
      "--- Temperature Converter ---\n",
      "1. Celsius to Fahrenheit\n",
      "2. Fahrenheit to Celsius\n",
      "3. Celsius to Kelvin\n",
      "4. Kelvin to Celsius\n",
      "5. Exit\n"
     ]
    },
    {
     "name": "stdin",
     "output_type": "stream",
     "text": [
      "Enter your choice (1-5):  5\n"
     ]
    },
    {
     "name": "stdout",
     "output_type": "stream",
     "text": [
      "Exiting Temperature Converter. Goodbye!\n"
     ]
    }
   ],
   "source": [
    "def celsius_to_fahrenheit(c):\n",
    "    return (c * 9/5) + 32\n",
    "\n",
    "def fahrenheit_to_celsius(f):\n",
    "    return (f - 32) * 5/9\n",
    "\n",
    "def celsius_to_kelvin(c):\n",
    "    return c + 273.15\n",
    "\n",
    "def kelvin_to_celsius(k):\n",
    "    return k - 273.15\n",
    "\n",
    "def show_menu():\n",
    "    print(\"\\n--- Temperature Converter ---\")\n",
    "    print(\"1. Celsius to Fahrenheit\")\n",
    "    print(\"2. Fahrenheit to Celsius\")\n",
    "    print(\"3. Celsius to Kelvin\")\n",
    "    print(\"4. Kelvin to Celsius\")\n",
    "    print(\"5. Exit\")\n",
    "\n",
    "while True:\n",
    "    show_menu()\n",
    "    choice = input(\"Enter your choice (1-5): \")\n",
    "\n",
    "    if choice == '1':\n",
    "        c = float(input(\"Enter temperature in Celsius: \"))\n",
    "        print(f\"Temperature in Fahrenheit: {celsius_to_fahrenheit(c):.2f}°F\")\n",
    "    elif choice == '2':\n",
    "        f = float(input(\"Enter temperature in Fahrenheit: \"))\n",
    "        print(f\"Temperature in Celsius: {fahrenheit_to_celsius(f):.2f}°C\")\n",
    "    elif choice == '3':\n",
    "        c = float(input(\"Enter temperature in Celsius: \"))\n",
    "        print(f\"Temperature in Kelvin: {celsius_to_kelvin(c):.2f}K\")\n",
    "    elif choice == '4':\n",
    "        k = float(input(\"Enter temperature in Kelvin: \"))\n",
    "        print(f\"Temperature in Celsius: {kelvin_to_celsius(k):.2f}°C\")\n",
    "    elif choice == '5':\n",
    "        print(\"Exiting Temperature Converter. Goodbye!\")\n",
    "        break\n",
    "    else:\n",
    "        print(\"Invalid choice. Please try again.\")\n"
   ]
  },
  {
   "cell_type": "markdown",
   "id": "68334358-5914-4534-aa10-371fd6cfbe73",
   "metadata": {},
   "source": [
    "**Q) Input a paragraph, clean it up, and count word frequency using a dictionary. Bonus: sort by frequency.**"
   ]
  },
  {
   "cell_type": "code",
   "execution_count": 1,
   "id": "9f644146-c1ea-4ba6-adbc-d80c69cc0a19",
   "metadata": {},
   "outputs": [
    {
     "name": "stdin",
     "output_type": "stream",
     "text": [
      "Enter a paragraph:\n",
      " hello everyone, everyone hello akash, akash good afternoon\n"
     ]
    },
    {
     "name": "stdout",
     "output_type": "stream",
     "text": [
      "\n",
      "--- Word Frequency ---\n",
      "hello: 2\n",
      "everyone: 2\n",
      "akash: 2\n",
      "good: 1\n",
      "afternoon: 1\n"
     ]
    }
   ],
   "source": [
    "import string\n",
    "\n",
    "paragraph = input(\"Enter a paragraph:\\n\")\n",
    "\n",
    "paragraph = paragraph.lower()\n",
    "for char in string.punctuation:\n",
    "    paragraph = paragraph.replace(char, \"\")\n",
    "\n",
    "words = paragraph.split()\n",
    "\n",
    "word_freq = {}\n",
    "for word in words:\n",
    "    if word in word_freq:\n",
    "        word_freq[word] += 1\n",
    "    else:\n",
    "        word_freq[word] = 1\n",
    "\n",
    "sorted_items = []\n",
    "for item in word_freq.items():\n",
    "    sorted_items.append(item)\n",
    "\n",
    "for i in range(len(sorted_items)):\n",
    "    for j in range(i + 1, len(sorted_items)):\n",
    "        if sorted_items[i][1] < sorted_items[j][1]:\n",
    "            sorted_items[i], sorted_items[j] = sorted_items[j], sorted_items[i]\n",
    "\n",
    "print(\"\\n--- Word Frequency ---\")\n",
    "for word, freq in sorted_items:\n",
    "    print(f\"{word}: {freq}\")\n"
   ]
  },
  {
   "cell_type": "markdown",
   "id": "c2771761-a092-497f-9801-d1f7f346f93b",
   "metadata": {},
   "source": [
    "**Q) Find and Replace Text in a File, Open a file called data.txt.\n",
    "Replace every occurrence of the word \"Python\" with \"PYTHON\" (capital letters).\n",
    "Save the new content back into the same file.**"
   ]
  },
  {
   "cell_type": "code",
   "execution_count": 14,
   "id": "18274aa0-a273-421f-967b-5160201b0c28",
   "metadata": {},
   "outputs": [
    {
     "name": "stdout",
     "output_type": "stream",
     "text": [
      "hello everyone, today we are going to learn python, python is known as scripting language as well as programming language, python\n",
      "hello everyone, today we are going to learn PYTHON, PYTHON is known as scripting language as well as programming language, PYTHON\n",
      "All occurrences of 'Python' have been replaced with 'PYTHON'.\n"
     ]
    }
   ],
   "source": [
    "with open(\"data.txt\", \"r\") as file:\n",
    "    content = file.read()\n",
    "    print(content)\n",
    "\n",
    "change = content.replace(\"python\", \"PYTHON\")\n",
    "\n",
    "\n",
    "with open(\"data.txt\", \"w\") as file:\n",
    "    file.write(change)\n",
    "    print(change)\n",
    "\n",
    "print(\"All occurrences of 'Python' have been replaced with 'PYTHON'.\")"
   ]
  },
  {
   "cell_type": "markdown",
   "id": "a18f6526-abf9-4b4c-b4fb-a6a89e196ead",
   "metadata": {},
   "source": [
    "**Q) Create a Simple Contact Book\n",
    "Ask the user to enter Name and Phone Number.\n",
    "Save each contact in a file contacts.txt in this format:\n",
    "Name: [name], Phone: [phone]\n",
    "Allow multiple contacts.**"
   ]
  },
  {
   "cell_type": "code",
   "execution_count": 26,
   "id": "8e3d7928-8639-460f-a4cd-f44c0f11fe73",
   "metadata": {},
   "outputs": [
    {
     "name": "stdin",
     "output_type": "stream",
     "text": [
      "Enter name:  sky\n",
      "Enter phone number:  1234909876543\n"
     ]
    },
    {
     "name": "stdout",
     "output_type": "stream",
     "text": [
      "Contact saved.\n"
     ]
    },
    {
     "name": "stdin",
     "output_type": "stream",
     "text": [
      "Do you want to add another contact? (yes/no):  NO\n"
     ]
    },
    {
     "name": "stdout",
     "output_type": "stream",
     "text": [
      "All contacts have been saved in 'contacts.txt'.\n",
      "Name: Akash, Phone: 7378551000\n",
      "Name: Akash, Phone: 7235364567\n",
      "Name: akash, Phone: 12456\n",
      "Name: akash, Phone: 1245467\n",
      "Name: sky, Phone: 1234909876543\n",
      "\n"
     ]
    }
   ],
   "source": [
    "while True:\n",
    "    name = input(\"Enter name: \")\n",
    "    phone = input(\"Enter phone number: \")\n",
    "\n",
    "    with open(\"contacts.txt\", \"a\") as file:  \n",
    "        file.write(f\"Name: {name}, Phone: {phone}\\n\")\n",
    "\n",
    "    print(\"Contact saved.\")\n",
    "\n",
    "    more = input(\"Do you want to add another contact? (yes/no): \").strip().lower()\n",
    "    if more != \"yes\":\n",
    "        break\n",
    "\n",
    "print(\"All contacts have been saved in 'contacts.txt'.\")\n",
    "with open(\"contacts.txt\", \"r\") as file:\n",
    "    contents = file.read()\n",
    "    print(contents)"
   ]
  },
  {
   "cell_type": "markdown",
   "id": "0b63607d-8a60-41ca-894c-f3688b1c7c45",
   "metadata": {},
   "source": [
    "**Q) Safe File Reader with Error Handling    Ask the user for a filename.\n",
    "Try to open the file and read content.\n",
    "If file does not exist, show a nice error message without crashing**"
   ]
  },
  {
   "cell_type": "code",
   "execution_count": 32,
   "id": "4dd7a60f-999a-4dbc-ae0d-064501caaf45",
   "metadata": {},
   "outputs": [
    {
     "name": "stdin",
     "output_type": "stream",
     "text": [
      "Enter the filename to open:  akash\n"
     ]
    },
    {
     "name": "stdout",
     "output_type": "stream",
     "text": [
      " Error: The file 'akash' was not found.\n"
     ]
    }
   ],
   "source": [
    "filename = input(\"Enter the filename to open: \")\n",
    "try:\n",
    "    with open(filename, \"r\") as file:\n",
    "        content = file.read()\n",
    "        print(\"\\n File Content:\")\n",
    "        print(content)\n",
    "\n",
    "except FileNotFoundError:\n",
    "    print(f\" Error: The file '{filename}' was not found.\")\n",
    "except Exception as e:\n",
    "    print(f\"⚠ An unexpected error occurred: {e}\")\n"
   ]
  },
  {
   "cell_type": "markdown",
   "id": "71da66a6-5aa9-498c-a295-9a914d453ac6",
   "metadata": {},
   "source": [
    "**Q) Count Lines, Words, and Characters Open essay.txt.**\n",
    "Count:\n",
    "- Total number of lines\n",
    "- Total number of words\n",
    "- Total number of characters\n",
    "\n",
    "**Print all three counts.**"
   ]
  },
  {
   "cell_type": "code",
   "execution_count": 44,
   "id": "90064d28-9679-4398-b49e-a9a8c77107f2",
   "metadata": {},
   "outputs": [
    {
     "name": "stdout",
     "output_type": "stream",
     "text": [
      "Name: Akash, Phone: 7378551000\n",
      "Name: Akash, Phone: 7235364567\n",
      "Name: akash, Phone: 12456\n",
      "Name: akash, Phone: 1245467\n",
      "Name: sky, Phone: 1234909876543\n",
      "\n",
      "----All counts----\n",
      " Total Lines:  6\n",
      " Total Words:  20\n",
      " Total Characters:  148\n"
     ]
    }
   ],
   "source": [
    "try:\n",
    "    with open(\"contacts.txt\", \"r\") as file:\n",
    "        content = file.read()\n",
    "        print(content)\n",
    "\n",
    "        line_count = content.count(\"\\n\") + 1 if content else 0\n",
    "        word_count = len(content.split())\n",
    "        char_count = len(content)\n",
    "        print(\"----All counts----\")\n",
    "        print(\" Total Lines: \",line_count)\n",
    "        print(\" Total Words: \",word_count)\n",
    "        print(\" Total Characters: \",char_count)\n",
    "\n",
    "except FileNotFoundError:\n",
    "    print(\" The file 'essay.txt' was not found.\")\n"
   ]
  },
  {
   "cell_type": "markdown",
   "id": "dd7639d8-b2f4-413d-a8a6-9e5d5287544a",
   "metadata": {},
   "source": [
    "**Q) Merge Two Files, You have two files: file1.txt and file2.txt.\n",
    "Create a third file merged.txt and write contents of both files into it.**"
   ]
  },
  {
   "cell_type": "code",
   "execution_count": 59,
   "id": "f7404f15-0411-4304-b7ef-e45f4917c45c",
   "metadata": {},
   "outputs": [
    {
     "name": "stdout",
     "output_type": "stream",
     "text": [
      " Files merged successfully into 'merged.txt'.\n",
      "hello everyone, today we are going to learn PYTHON, PYTHON is known as scripting language as well as programming language, PYTHON\n",
      "Name: Akash, Phone: 7378551000\n",
      "Name: Akash, Phone: 7235364567\n",
      "Name: akash, Phone: 12456\n",
      "Name: akash, Phone: 1245467\n",
      "Name: sky, Phone: 1234909876543\n",
      "\n"
     ]
    }
   ],
   "source": [
    "try:\n",
    "    with open(\"data.txt\", \"r\") as f1:\n",
    "        content1 = f1.read()\n",
    "\n",
    "    with open(\"contacts.txt\", \"r\") as f2:\n",
    "        content2 = f2.read()\n",
    "\n",
    "    with open(\"merged.txt\", \"w\") as merged:\n",
    "        merged.write(content1 + \"\\n\" + content2)\n",
    "\n",
    "    print(\" Files merged successfully into 'merged.txt'.\")\n",
    "    with open(\"merged.txt\", \"r\") as file:\n",
    "        contents = file.read()\n",
    "        print(contents)\n",
    "\n",
    "except FileNotFoundError as e:\n",
    "    print(f\" Error: {e.filename} was not found.\")\n"
   ]
  },
  {
   "cell_type": "markdown",
   "id": "1c1eefa7-f400-4ea8-9ca7-20af24dd0229",
   "metadata": {},
   "source": [
    "**Q) Print a python program to count number up to n. start with 1. Use function.**"
   ]
  },
  {
   "cell_type": "code",
   "execution_count": 64,
   "id": "71117213-2856-4ce2-8ea2-f8c59a47b861",
   "metadata": {},
   "outputs": [
    {
     "name": "stdin",
     "output_type": "stream",
     "text": [
      "Enter a number 5\n"
     ]
    },
    {
     "name": "stdout",
     "output_type": "stream",
     "text": [
      "1\n",
      "2\n",
      "3\n",
      "4\n",
      "5\n"
     ]
    }
   ],
   "source": [
    "n=int(input(\"Enter a number\"))\n",
    "for i in range(1,n+1):\n",
    "    print(i)"
   ]
  },
  {
   "cell_type": "markdown",
   "id": "453373e8-e45e-4bdc-a222-95d95a1a1f60",
   "metadata": {},
   "source": [
    "# Generators\n"
   ]
  },
  {
   "cell_type": "code",
   "execution_count": 4,
   "id": "0d7ac7ce-42b1-44a0-9141-fad246b44cb6",
   "metadata": {},
   "outputs": [
    {
     "name": "stdout",
     "output_type": "stream",
     "text": [
      "[1, 2, 3]\n",
      "1\n",
      "2\n",
      "3\n"
     ]
    }
   ],
   "source": [
    "def simple():\n",
    "    return [1,2,3]\n",
    "a=simple()\n",
    "print(a)\n",
    "\n",
    "def simple_gen():\n",
    "    yield 1\n",
    "    yield 2\n",
    "    yield 3\n",
    "b=simple_gen()\n",
    "print(next(b))\n",
    "print(next(b))\n",
    "print(next(b))"
   ]
  },
  {
   "cell_type": "code",
   "execution_count": 6,
   "id": "9c9958ee-2963-475f-bbb5-1086b406d810",
   "metadata": {},
   "outputs": [
    {
     "name": "stdout",
     "output_type": "stream",
     "text": [
      "[0, 1, 2, 3, 4]\n"
     ]
    }
   ],
   "source": [
    "def num_list(n):\n",
    "    num=[]\n",
    "    for i in range(n):\n",
    "        num.append(i)\n",
    "    return num\n",
    "a=num_list(5)\n",
    "print(a)"
   ]
  },
  {
   "cell_type": "code",
   "execution_count": 8,
   "id": "a45f120c-5338-49e0-9b2a-d53bcc593807",
   "metadata": {},
   "outputs": [
    {
     "name": "stdout",
     "output_type": "stream",
     "text": [
      "0\n",
      "1\n",
      "2\n",
      "3\n",
      "4\n"
     ]
    }
   ],
   "source": [
    "def gen_list(n):\n",
    "    for i in range(n):\n",
    "        yield i\n",
    "b=gen_list(5)\n",
    "for i in b:\n",
    "    print(i)"
   ]
  },
  {
   "cell_type": "code",
   "execution_count": 14,
   "id": "2c79d2c2-669f-4f6d-a69a-07cc483fe824",
   "metadata": {},
   "outputs": [
    {
     "name": "stdout",
     "output_type": "stream",
     "text": [
      "1\n",
      "2\n",
      "3\n",
      "4\n",
      "5\n"
     ]
    }
   ],
   "source": [
    "def count_n(n):\n",
    "    i=1\n",
    "    while i<=n:\n",
    "        yield i\n",
    "        i+=1\n",
    "a=count_n(5)\n",
    "print(next(a))\n",
    "print(next(a))\n",
    "print(next(a))\n",
    "print(next(a))\n",
    "print(next(a))"
   ]
  },
  {
   "cell_type": "code",
   "execution_count": 16,
   "id": "899c3cea-a3e7-405d-9be4-3221520cca6d",
   "metadata": {},
   "outputs": [
    {
     "name": "stdout",
     "output_type": "stream",
     "text": [
      "1\n",
      "4\n",
      "9\n",
      "16\n",
      "25\n"
     ]
    }
   ],
   "source": [
    "def gen_squ(n):\n",
    "    for i in range(1,n+1):\n",
    "        yield i*i\n",
    "for sqr in gen_squ(5):\n",
    "    print(sqr)"
   ]
  },
  {
   "cell_type": "code",
   "execution_count": 18,
   "id": "7f93a53a-7ffd-468c-9e34-c2aac8f2f423",
   "metadata": {},
   "outputs": [
    {
     "name": "stdout",
     "output_type": "stream",
     "text": [
      "A\n",
      "k\n",
      "a\n",
      "s\n",
      "h\n"
     ]
    }
   ],
   "source": [
    "def gen_char(text):\n",
    "    for char in text:\n",
    "        yield char\n",
    "for ch in gen_char(\"Akash\"):\n",
    "    print(ch)"
   ]
  },
  {
   "cell_type": "markdown",
   "id": "63368ac2-d7b5-4ab6-b8f9-e09cfecaf843",
   "metadata": {},
   "source": [
    "**Q) Write a generator even_numbers(n) that yields even numbers from 0 to n.**"
   ]
  },
  {
   "cell_type": "code",
   "execution_count": 23,
   "id": "fba12806-5368-4acd-93b0-3c52b2b28483",
   "metadata": {},
   "outputs": [
    {
     "name": "stdout",
     "output_type": "stream",
     "text": [
      "2\n",
      "4\n",
      "6\n",
      "8\n"
     ]
    }
   ],
   "source": [
    "def even(n):\n",
    "    for i in range(1,n+1):\n",
    "        if i%2==0:\n",
    "            yield i\n",
    "for e in even(8):\n",
    "    print(e)"
   ]
  },
  {
   "cell_type": "markdown",
   "id": "0d33f993-41a3-4098-8f1f-e1de244eb0b6",
   "metadata": {},
   "source": [
    "**Q) Create a generator fibonacci(n) that yields the first n Fibonacci numbers.**"
   ]
  },
  {
   "cell_type": "code",
   "execution_count": 2,
   "id": "1a2c941d-be00-427c-9f45-a192e5acc0d3",
   "metadata": {},
   "outputs": [
    {
     "name": "stdout",
     "output_type": "stream",
     "text": [
      "0\n",
      "1\n",
      "1\n",
      "2\n",
      "3\n",
      "5\n",
      "8\n",
      "13\n",
      "21\n",
      "34\n"
     ]
    }
   ],
   "source": [
    "def fibonacci(n):\n",
    "    a, b = 0, 1\n",
    "    for _ in range(n):\n",
    "        yield a\n",
    "        a, b = b, a + b\n",
    "for num in fibonacci(10):\n",
    "    print(num)\n"
   ]
  },
  {
   "cell_type": "markdown",
   "id": "07b5d60a-e557-4e18-86fc-c03eacc620d2",
   "metadata": {},
   "source": [
    "**Q) Write a generator infinite_numbers() that yields natural numbers starting from 1 infinitely.**"
   ]
  },
  {
   "cell_type": "code",
   "execution_count": 5,
   "id": "7cfdcde8-319e-4f7a-bdc8-524aaa3bd83e",
   "metadata": {},
   "outputs": [
    {
     "name": "stdout",
     "output_type": "stream",
     "text": [
      "1\n",
      "2\n",
      "3\n",
      "4\n",
      "5\n",
      "6\n",
      "7\n",
      "8\n",
      "9\n",
      "10\n"
     ]
    }
   ],
   "source": [
    "def infinite_numbers():\n",
    "    num = 1\n",
    "    while True:\n",
    "        yield num\n",
    "        num += 1\n",
    "gen = infinite_numbers()\n",
    "for _ in range(10):\n",
    "    print(next(gen))\n"
   ]
  },
  {
   "cell_type": "code",
   "execution_count": 9,
   "id": "3328fd7b-d365-4fe2-ac9a-5d593154aa17",
   "metadata": {},
   "outputs": [
    {
     "name": "stdout",
     "output_type": "stream",
     "text": [
      "H\n",
      "S\n",
      "A\n",
      "K\n",
      "A\n"
     ]
    }
   ],
   "source": [
    "def reverse_string(text):\n",
    "    for char in reversed(text):\n",
    "        yield char\n",
    "for ch in reverse_string(\"AKASH\"):\n",
    "    print(ch)\n"
   ]
  },
  {
   "cell_type": "markdown",
   "id": "80fc20c8-5b65-48f4-852d-1a4cf1bc001f",
   "metadata": {},
   "source": [
    "**Q) Print Hello World using decorator That Prints a Line Before and After**"
   ]
  },
  {
   "cell_type": "code",
   "execution_count": 6,
   "id": "ce82f011-5d33-4736-948b-526399cdc0ea",
   "metadata": {},
   "outputs": [
    {
     "name": "stdout",
     "output_type": "stream",
     "text": [
      "---Before---\n",
      "Hello\n",
      "---After---\n"
     ]
    }
   ],
   "source": [
    "def simple(func):\n",
    "    def wrapper():\n",
    "        print(\"---Before---\")\n",
    "        func()\n",
    "        print(\"---After---\")\n",
    "    return wrapper\n",
    "\n",
    "@simple\n",
    "\n",
    "def hello():\n",
    "    print(\"Hello\")\n",
    "\n",
    "hello()"
   ]
  },
  {
   "cell_type": "markdown",
   "id": "a18acabd-79a8-4b0d-a643-3537f4dbcbbc",
   "metadata": {},
   "source": [
    "**Q) Write a decorator that checks if the input to a function is a positive number.**"
   ]
  },
  {
   "cell_type": "code",
   "execution_count": 34,
   "id": "3ffa88e3-8f4e-4780-a937-3acbcf231d25",
   "metadata": {},
   "outputs": [
    {
     "name": "stdin",
     "output_type": "stream",
     "text": [
      "Enter a number:  -1\n"
     ]
    },
    {
     "name": "stdout",
     "output_type": "stream",
     "text": [
      "Negative Number\n"
     ]
    }
   ],
   "source": [
    "def check(positive):\n",
    "    def wrapper(x):\n",
    "        if x<0:\n",
    "            print(\"Negative Number\")\n",
    "        else:\n",
    "            return positive(x)\n",
    "    return wrapper\n",
    "\n",
    "@check\n",
    "def positive(x):\n",
    "    print(\"Positive Number\")\n",
    "x=int(input(\"Enter a number: \"))\n",
    "positive(x)"
   ]
  },
  {
   "cell_type": "markdown",
   "id": "eb0a6161-b07e-4087-ba61-277d4467c13f",
   "metadata": {},
   "source": [
    "**Q) Create a decorator that prints \"Access granted\" before any function.**"
   ]
  },
  {
   "cell_type": "code",
   "execution_count": 39,
   "id": "314fab59-b1c7-4f18-9f17-21052f69180d",
   "metadata": {},
   "outputs": [
    {
     "name": "stdout",
     "output_type": "stream",
     "text": [
      "Access Granted\n",
      "Hello\n"
     ]
    }
   ],
   "source": [
    "def simple(func):\n",
    "    def wrapper():\n",
    "        print(\"Access Granted\")\n",
    "        func()\n",
    "    return wrapper\n",
    "@simple\n",
    "def func():\n",
    "    print(\"Hello\")\n",
    "func()"
   ]
  },
  {
   "cell_type": "markdown",
   "id": "b6bcd4b8-9fcc-42a7-a6d3-ee28d1aaf488",
   "metadata": {},
   "source": [
    "**Q) Create a decorator that counts how many times a function is called.**"
   ]
  },
  {
   "cell_type": "code",
   "execution_count": 52,
   "id": "395707ef-2d53-4bf2-b678-81fdeb2eee8e",
   "metadata": {},
   "outputs": [
    {
     "name": "stdout",
     "output_type": "stream",
     "text": [
      "Function 'greet' has been called 1 times.\n",
      "Hello, Akash!\n",
      "Function 'greet' has been called 2 times.\n",
      "Hello, Ravi!\n",
      "Function 'greet' has been called 3 times.\n",
      "Hello, Meera!\n"
     ]
    }
   ],
   "source": [
    "def count_calls(func):\n",
    "    def wrapper(name):\n",
    "        wrapper.call_count += 1\n",
    "        print(f\"Function '{func.__name__}' has been called {wrapper.call_count} times.\")\n",
    "        return func(name)\n",
    "    \n",
    "    wrapper.call_count = 0 \n",
    "    return wrapper\n",
    "\n",
    "@count_calls\n",
    "def greet(name):\n",
    "    print(f\"Hello, {name}!\")\n",
    "\n",
    "greet(\"Akash\")\n",
    "greet(\"Ravi\")\n",
    "greet(\"Meera\")\n"
   ]
  },
  {
   "cell_type": "markdown",
   "id": "784f847b-157b-4839-a37b-a46a1bf78505",
   "metadata": {},
   "source": [
    "**Q) Input an amount (e.g., ₹5867), and print how many ₹2000, ₹500, ₹200, ₹100, ₹50, ₹10, ₹5, ₹1 notes/coins are required.**"
   ]
  },
  {
   "cell_type": "code",
   "execution_count": 2,
   "id": "7b09f475-a8b3-4589-90d8-a2de9eda3f44",
   "metadata": {},
   "outputs": [
    {
     "name": "stdin",
     "output_type": "stream",
     "text": [
      "Enter amount:  1234\n"
     ]
    },
    {
     "name": "stdout",
     "output_type": "stream",
     "text": [
      "Required Notes: \n",
      "{500: 2, 200: 1, 10: 3, 1: 4}\n"
     ]
    }
   ],
   "source": [
    "n=int(input(\"Enter amount: \"))\n",
    "notes=[2000,500,200,100,50,10,5,1]\n",
    "required={}\n",
    "for i in notes:\n",
    "    if n>=i:\n",
    "        required[i]=n//i\n",
    "        n%=i\n",
    "print(\"Required Notes: \")\n",
    "print(required)"
   ]
  },
  {
   "cell_type": "code",
   "execution_count": 18,
   "id": "e651ff22-8baf-428e-8aa8-51446859b9f1",
   "metadata": {},
   "outputs": [
    {
     "name": "stdin",
     "output_type": "stream",
     "text": [
      "Enter amount:  1234\n"
     ]
    },
    {
     "name": "stdout",
     "output_type": "stream",
     "text": [
      "500:  2\n",
      "200:  1\n",
      "10:  3\n",
      "1:  4\n"
     ]
    }
   ],
   "source": [
    "n = int(input(\"Enter amount: \"))\n",
    "\n",
    "while n>0:\n",
    "    if n >= 2000:\n",
    "        required = n // 2000\n",
    "        n %= 2000\n",
    "        print(\"2000: \",required)\n",
    "    if n >= 500:\n",
    "        required = n // 500\n",
    "        n %= 500\n",
    "        print(\"500: \",required)\n",
    "    if n >= 200:\n",
    "        required= n // 200\n",
    "        n %= 200\n",
    "        print(\"200: \",required)\n",
    "    if n >= 100:\n",
    "        required = n // 100\n",
    "        n %= 100\n",
    "        print(\"100: \",required)\n",
    "    if n >= 50:\n",
    "        required = n // 50\n",
    "        n %= 50\n",
    "        print(\"50: \",required)\n",
    "    if n >= 10:\n",
    "        required = n // 10\n",
    "        n %= 10\n",
    "        print(\"10: \",required)\n",
    "    if n >= 5:\n",
    "        required = n // 5\n",
    "        n %= 5\n",
    "        print(\"5: \",required)\n",
    "    if n >= 1:\n",
    "        required = n // 1\n",
    "        n %= 1\n",
    "        print(\"1: \",required)\n",
    "\n"
   ]
  },
  {
   "cell_type": "markdown",
   "id": "e1c1fe1c-4c22-420b-9628-db420ca1b3da",
   "metadata": {},
   "source": [
    "**Q) Ask the user to enter side of a square and radius of a circle. Compare the areas and print which is greater.**"
   ]
  },
  {
   "cell_type": "code",
   "execution_count": 9,
   "id": "489901fd-f230-40a9-8159-cf8b9bb62c19",
   "metadata": {},
   "outputs": [
    {
     "name": "stdin",
     "output_type": "stream",
     "text": [
      "Enter side of a square:  5\n",
      "Enter radius of circle:  2\n"
     ]
    },
    {
     "name": "stdout",
     "output_type": "stream",
     "text": [
      "The Area of Square(25.0) is Greater than Area of Circle(12.56)\n"
     ]
    }
   ],
   "source": [
    "side=float(input(\"Enter side of a square: \"))\n",
    "radius=float(input(\"Enter radius of circle: \"))\n",
    "\n",
    "squ=side*side\n",
    "cir=3.14*radius*radius\n",
    "\n",
    "if squ>cir:\n",
    "    print(f\"The Area of Square({squ}) is Greater than Area of Circle({cir})\")\n",
    "else:\n",
    "    print(f\"The Area of Circle({cir}) is Greater than Area of Square({squ})\")"
   ]
  },
  {
   "cell_type": "markdown",
   "id": "2bf18c68-9b7d-4814-8e1c-ee04f18e513d",
   "metadata": {},
   "source": [
    "**Q) Take hours parked as input. First 2 hours are ₹10 each, remaining hours are ₹5 per hour. Calculate total charge.**"
   ]
  },
  {
   "cell_type": "code",
   "execution_count": 16,
   "id": "329ae39f-577b-4225-a8eb-0563c7480684",
   "metadata": {},
   "outputs": [
    {
     "name": "stdin",
     "output_type": "stream",
     "text": [
      "Enter number of hours parked:  6\n"
     ]
    },
    {
     "name": "stdout",
     "output_type": "stream",
     "text": [
      "Total parking charge is ₹40\n"
     ]
    }
   ],
   "source": [
    "n = int(input(\"Enter number of hours parked: \"))\n",
    "\n",
    "if n <= 2:\n",
    "    charge = n * 10\n",
    "else:\n",
    "    charge = (2 * 10) + ((n - 2) * 5)\n",
    "\n",
    "print(f\"Total parking charge is ₹{charge}\")\n"
   ]
  },
  {
   "cell_type": "markdown",
   "id": "2de2b401-4e0d-4019-b4de-bb681d9667b4",
   "metadata": {},
   "source": [
    "**Q) Write a function that reverses the order of words in a string without using built-in methods like split().**"
   ]
  },
  {
   "cell_type": "code",
   "execution_count": 8,
   "id": "75cd9e8c-3942-45a4-910f-0e9d6780ae37",
   "metadata": {},
   "outputs": [
    {
     "name": "stdout",
     "output_type": "stream",
     "text": [
      "hsakA\n"
     ]
    }
   ],
   "source": [
    "n=\"Akash\"\n",
    "print(n[::-1])"
   ]
  },
  {
   "cell_type": "markdown",
   "id": "f93d127d-2534-4fc3-a7c1-aa9603fe6f5c",
   "metadata": {},
   "source": [
    "**Write a function that compresses a string using the counts of repeated characters.\n",
    "eg: \"aabcccccaaa\" → \"a2b1c5a3\"**"
   ]
  },
  {
   "cell_type": "code",
   "execution_count": 36,
   "id": "110c5cce-1c73-4505-b4f5-0b95705ce8bd",
   "metadata": {},
   "outputs": [
    {
     "name": "stdin",
     "output_type": "stream",
     "text": [
      "Enter a string aabbbcccc4444e\n"
     ]
    },
    {
     "name": "stdout",
     "output_type": "stream",
     "text": [
      "a2b3c444e1\n"
     ]
    }
   ],
   "source": [
    "s =input(\"Enter a string\")\n",
    "result = \"\"\n",
    "count = 1\n",
    "\n",
    "for i in range(1, len(s)):\n",
    "    if s[i] == s[i - 1]:\n",
    "        count += 1\n",
    "    else:\n",
    "        result += s[i - 1] + str(count)\n",
    "        count = 1\n",
    "\n",
    "result += s[-1] + str(count)\n",
    "\n",
    "print(result)\n"
   ]
  },
  {
   "cell_type": "markdown",
   "id": "73740bed-1281-42a1-9962-d1e138878e9e",
   "metadata": {},
   "source": [
    "**Q) Swap the values of two variables without using a third variable.**"
   ]
  },
  {
   "cell_type": "code",
   "execution_count": 20,
   "id": "5cc6c697-baeb-4696-bf18-69c4916bffe9",
   "metadata": {},
   "outputs": [
    {
     "name": "stdout",
     "output_type": "stream",
     "text": [
      "values before swapping: a= 10 b= 20\n",
      "values after swapping: a= 20 b= 10\n"
     ]
    }
   ],
   "source": [
    "a=10\n",
    "b=20\n",
    "print(\"values before swapping: a=\",a,\"b=\",b)\n",
    "a=a+b\n",
    "b=a-b\n",
    "a=a-b\n",
    "print(\"values after swapping: a=\",a,\"b=\",b)"
   ]
  },
  {
   "cell_type": "code",
   "execution_count": null,
   "id": "a7a1e4f1-7424-4bd3-9338-2aad0927a263",
   "metadata": {},
   "outputs": [],
   "source": []
  }
 ],
 "metadata": {
  "kernelspec": {
   "display_name": "Python 3 (ipykernel)",
   "language": "python",
   "name": "python3"
  },
  "language_info": {
   "codemirror_mode": {
    "name": "ipython",
    "version": 3
   },
   "file_extension": ".py",
   "mimetype": "text/x-python",
   "name": "python",
   "nbconvert_exporter": "python",
   "pygments_lexer": "ipython3",
   "version": "3.12.4"
  }
 },
 "nbformat": 4,
 "nbformat_minor": 5
}
