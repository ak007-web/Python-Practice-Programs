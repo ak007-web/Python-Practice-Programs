{
 "cells": [
  {
   "cell_type": "markdown",
   "id": "77cb85be-f11f-4515-afeb-bf640cf10bca",
   "metadata": {},
   "source": [
    "# Daily Python Programs"
   ]
  },
  {
   "cell_type": "markdown",
   "id": "5ac0d5c0-7557-4e7b-a209-c05b2cebf33b",
   "metadata": {},
   "source": [
    "**Q) Print numbers from 1 to n using recursion.**"
   ]
  },
  {
   "cell_type": "code",
   "execution_count": 5,
   "id": "6b624ef7-ae52-4884-a2e2-4a73dba36d5e",
   "metadata": {},
   "outputs": [
    {
     "name": "stdout",
     "output_type": "stream",
     "text": [
      "1\n",
      "2\n",
      "3\n",
      "4\n",
      "5\n",
      "6\n",
      "7\n",
      "8\n",
      "9\n",
      "10\n"
     ]
    }
   ],
   "source": [
    "def numbers(n):\n",
    "    if n == 0:\n",
    "        return 0\n",
    "    numbers(n-1)\n",
    "    print(n)\n",
    "numbers(10)"
   ]
  },
  {
   "cell_type": "markdown",
   "id": "e329db4c-4b33-426d-99f2-f79e812f2427",
   "metadata": {},
   "source": [
    "**Q) Write a recursive function to count how many digits are in a number**"
   ]
  },
  {
   "cell_type": "code",
   "execution_count": 18,
   "id": "b190b71c-1b50-4c51-9aaf-1585b247dc8a",
   "metadata": {},
   "outputs": [
    {
     "name": "stdout",
     "output_type": "stream",
     "text": [
      "5\n"
     ]
    }
   ],
   "source": [
    "def count_digits(n):\n",
    "    if n == 0:\n",
    "        return 0\n",
    "    return 1 + count_digits(n // 10)\n",
    "print(count_digits(12345))"
   ]
  },
  {
   "cell_type": "markdown",
   "id": "f6ee2a96-d6c8-4ad9-9839-0a2a8a52585f",
   "metadata": {},
   "source": [
    "**Q) Write a lambda to return the last character of a string**"
   ]
  },
  {
   "cell_type": "code",
   "execution_count": null,
   "id": "05e044b7-4e8f-4a99-8961-dc3bc9ac6d77",
   "metadata": {},
   "outputs": [],
   "source": [
    "last_char = lambda s: s[-1]\n",
    "print(last_char(\"Akash\"))"
   ]
  },
  {
   "cell_type": "markdown",
   "id": "bbfd2358-4086-49f5-852b-d9993d20f780",
   "metadata": {},
   "source": [
    "**Q) Use map() to find the length of each word in a sentence**"
   ]
  },
  {
   "cell_type": "code",
   "execution_count": 23,
   "id": "cab0ff08-2c48-4537-b1de-ee72a012dcde",
   "metadata": {},
   "outputs": [
    {
     "name": "stdout",
     "output_type": "stream",
     "text": [
      "[2, 5]\n"
     ]
    }
   ],
   "source": [
    "n= \"Hi there\"\n",
    "length = list(map(len, n.split()))\n",
    "print(length)"
   ]
  },
  {
   "cell_type": "markdown",
   "id": "b4ab2f52-b685-4e40-9228-c547b784d26a",
   "metadata": {},
   "source": [
    "**Q) Use map() with a lambda to add 10 to each number in a list**"
   ]
  },
  {
   "cell_type": "code",
   "execution_count": 27,
   "id": "d5ca26b5-5490-4fd8-9325-fb4e326a26be",
   "metadata": {},
   "outputs": [
    {
     "name": "stdout",
     "output_type": "stream",
     "text": [
      "[11, 12, 13, 14, 15]\n"
     ]
    }
   ],
   "source": [
    "def add(n):\n",
    "    return n + 10\n",
    "\n",
    "n = [1, 2, 3, 4, 5]\n",
    "a = list(map(add,n))\n",
    "print(a)"
   ]
  },
  {
   "cell_type": "markdown",
   "id": "d4c0e760-e0aa-4e3c-be3a-6ef2b2bdd9c3",
   "metadata": {},
   "source": [
    "**Q) Use filter() to get numbers greater than 50 from a list**"
   ]
  },
  {
   "cell_type": "code",
   "execution_count": 29,
   "id": "b84d5458-5503-4997-b47e-62d851f7f7fe",
   "metadata": {},
   "outputs": [
    {
     "name": "stdout",
     "output_type": "stream",
     "text": [
      "[55, 60, 90]\n"
     ]
    }
   ],
   "source": [
    "def is_greater(n):\n",
    "    return n > 50\n",
    "\n",
    "n = [10, 55, 60, 42, 90]\n",
    "filtered = list(filter(is_greater, n))\n",
    "print(filtered)"
   ]
  },
  {
   "cell_type": "markdown",
   "id": "7a4293c1-ed5c-41e8-9261-699d685f2c1a",
   "metadata": {},
   "source": [
    "**Q) Use reduce() to find the maximum value in a list**"
   ]
  },
  {
   "cell_type": "code",
   "execution_count": 33,
   "id": "a82ddc9b-b798-4c2c-8c75-bfa0cf589795",
   "metadata": {},
   "outputs": [
    {
     "name": "stdout",
     "output_type": "stream",
     "text": [
      "99\n"
     ]
    }
   ],
   "source": [
    "from functools import reduce\n",
    "\n",
    "def max(a, b):\n",
    "    return a if a > b else b\n",
    "\n",
    "n = [5, 8, 12, 99, 23, 7]\n",
    "maxi = reduce(max, n)\n",
    "print(maxi)"
   ]
  },
  {
   "cell_type": "markdown",
   "id": "ac64c250-10f6-493c-8e23-b2fe09b37b79",
   "metadata": {},
   "source": [
    "**Q) Write a Python program that takes a string from the user and prints the number of characters in it.**"
   ]
  },
  {
   "cell_type": "code",
   "execution_count": 35,
   "id": "e9fedaf2-52e8-4a67-bd1c-e508a8fa8eec",
   "metadata": {},
   "outputs": [
    {
     "name": "stdout",
     "output_type": "stream",
     "text": [
      "Enter a string akash\n"
     ]
    },
    {
     "name": "stdout",
     "output_type": "stream",
     "text": [
      "The length of string is  5\n"
     ]
    }
   ],
   "source": [
    "n=input(\"Enter a string\")\n",
    "length=len(n)\n",
    "print(\"The length of string is \",length)"
   ]
  },
  {
   "cell_type": "markdown",
   "id": "c25c750c-3c88-4bab-bc36-9d89ffb7fd83",
   "metadata": {},
   "source": [
    "**Q) Take a string from the user and print its first and last characters**"
   ]
  },
  {
   "cell_type": "code",
   "execution_count": 37,
   "id": "13ab505c-8c79-4c87-aafe-14d6d09c8f04",
   "metadata": {},
   "outputs": [
    {
     "name": "stdout",
     "output_type": "stream",
     "text": [
      "Enter a string akash\n"
     ]
    },
    {
     "name": "stdout",
     "output_type": "stream",
     "text": [
      "First letter:  a , Last digit:  h\n"
     ]
    }
   ],
   "source": [
    "n = input(\"Enter a string\")\n",
    "print(\"First letter: \",n[0],\", Last digit: \",n[-1])"
   ]
  },
  {
   "cell_type": "markdown",
   "id": "4e322d30-582b-4b96-8c2b-0f9db4d6a678",
   "metadata": {},
   "source": [
    "**Q) Take a string and check if it contains only digits**"
   ]
  },
  {
   "cell_type": "code",
   "execution_count": 49,
   "id": "a01d957d-9b6d-4452-a3dd-4478bd4e8454",
   "metadata": {},
   "outputs": [
    {
     "name": "stdout",
     "output_type": "stream",
     "text": [
      "Enter a string 1234d\n"
     ]
    },
    {
     "name": "stdout",
     "output_type": "stream",
     "text": [
      "This string does not contains only digit\n"
     ]
    }
   ],
   "source": [
    "n=input(\"Enter a string\")\n",
    "\n",
    "if n.isdigit():\n",
    "    print(\"This string contains only digits\")\n",
    "else:\n",
    "    print(\"This string does not contains only digit\")"
   ]
  },
  {
   "cell_type": "markdown",
   "id": "42214361-ec87-4737-a84c-138d01d2c93a",
   "metadata": {},
   "source": [
    "**Q) Take a string and a character from the user. Count how many times the character appears in the string.**"
   ]
  },
  {
   "cell_type": "code",
   "execution_count": 55,
   "id": "21bc6724-e5cc-468b-ac9d-7522deea2945",
   "metadata": {},
   "outputs": [
    {
     "name": "stdout",
     "output_type": "stream",
     "text": [
      "Enter a string akash\n",
      "Enter a character you want to count in given string a\n"
     ]
    },
    {
     "name": "stdout",
     "output_type": "stream",
     "text": [
      "The character  a  in the string  akash  is present  2  times\n"
     ]
    }
   ],
   "source": [
    "n=input(\"Enter a string\")\n",
    "c=input(\"Enter a character you want to count in given string\")\n",
    "\n",
    "cout=n.count(c)\n",
    "print(\"The character \",c,\" in the string \",n,\" is present \",cout,\" times\")"
   ]
  },
  {
   "cell_type": "markdown",
   "id": "51bd64b9-d8bc-4fb2-9e39-9a9b3fbfd13f",
   "metadata": {},
   "source": [
    "**Q) Take a sentence, a word to replace, and the new word from the user. Replace it in the sentence**"
   ]
  },
  {
   "cell_type": "code",
   "execution_count": 59,
   "id": "f4d428ae-9732-421c-bd90-4d6a5b577f8d",
   "metadata": {},
   "outputs": [
    {
     "name": "stdout",
     "output_type": "stream",
     "text": [
      "Enter a sentence:  hii my name is akash\n",
      "Enter a new word to replace:  sky\n",
      "Enter a word to replace with:  akash\n"
     ]
    },
    {
     "name": "stdout",
     "output_type": "stream",
     "text": [
      "hii my name is sky\n"
     ]
    }
   ],
   "source": [
    "n=input(\"Enter a sentence: \")\n",
    "new=input(\"Enter a new word to replace: \")\n",
    "old=input(\"Enter a word to replace with: \")\n",
    "\n",
    "sentence=n.replace(old,new)\n",
    "print(sentence)"
   ]
  },
  {
   "cell_type": "markdown",
   "id": "829ffcd1-b67e-4c43-9f55-b833ed612939",
   "metadata": {},
   "source": [
    "**Q) Take a string and print it in reverse order.**"
   ]
  },
  {
   "cell_type": "code",
   "execution_count": 65,
   "id": "e32c8bc0-68ff-4532-b717-2563082ba597",
   "metadata": {},
   "outputs": [
    {
     "name": "stdout",
     "output_type": "stream",
     "text": [
      "Enter a string:  akash\n"
     ]
    },
    {
     "name": "stdout",
     "output_type": "stream",
     "text": [
      "hsaka\n"
     ]
    }
   ],
   "source": [
    "n=input(\"Enter a string: \")\n",
    "print(n[::-1])"
   ]
  },
  {
   "cell_type": "markdown",
   "id": "c24c75f1-3bf5-4a7f-afaa-0b48d48740b3",
   "metadata": {},
   "source": [
    "**Q) Take a comma-separated string from the user and split it into a list.**"
   ]
  },
  {
   "cell_type": "code",
   "execution_count": 67,
   "id": "17395b8c-6c1f-429b-bf20-2171a49bf1ad",
   "metadata": {},
   "outputs": [
    {
     "name": "stdout",
     "output_type": "stream",
     "text": [
      "Enter a comma seperated list:  apple,banana,mango,graphs\n"
     ]
    },
    {
     "name": "stdout",
     "output_type": "stream",
     "text": [
      "['apple', 'banana', 'mango', 'graphs']\n"
     ]
    }
   ],
   "source": [
    "n=input(\"Enter a comma seperated list: \")\n",
    "items= list(map(str.strip, n.split(',')))\n",
    "print(items)"
   ]
  },
  {
   "cell_type": "markdown",
   "id": "de26c628-fbca-483c-8f41-94a74b1f252f",
   "metadata": {},
   "source": [
    "**Q) Take a string input and check whether it is a palindrome (same forward and backward)**"
   ]
  },
  {
   "cell_type": "code",
   "execution_count": 71,
   "id": "0e443493-5e0c-4a06-8a41-5186063c128a",
   "metadata": {},
   "outputs": [
    {
     "name": "stdout",
     "output_type": "stream",
     "text": [
      "Enter a string:  abcba\n"
     ]
    },
    {
     "name": "stdout",
     "output_type": "stream",
     "text": [
      "The string is Palindrome\n"
     ]
    }
   ],
   "source": [
    "n=input(\"Enter a string: \")\n",
    "rev=n[::-1]\n",
    "\n",
    "if n==rev:\n",
    "    print(\"The string is Palindrome\")\n",
    "else:\n",
    "    print(\"The string is not Palindrome\")"
   ]
  },
  {
   "cell_type": "markdown",
   "id": "9820305b-2fde-4391-95e3-0e38c1099ac5",
   "metadata": {},
   "source": [
    "**Q) Take first name and last name from the user, and print a username in the format firstname.lastname (all lowercase).**"
   ]
  },
  {
   "cell_type": "code",
   "execution_count": 91,
   "id": "031b2819-88de-448e-9951-a0e45a15c4fa",
   "metadata": {},
   "outputs": [
    {
     "name": "stdout",
     "output_type": "stream",
     "text": [
      "Enter 1st name of user:  Akash\n",
      "Enter Last name of user:  Deshmukh\n"
     ]
    },
    {
     "name": "stdout",
     "output_type": "stream",
     "text": [
      "akash.deshmukh\n"
     ]
    }
   ],
   "source": [
    "first=input(\"Enter 1st name of user: \").lower()\n",
    "last=input(\"Enter Last name of user: \").lower()\n",
    "print(f\"{first}.{last}\")"
   ]
  },
  {
   "cell_type": "markdown",
   "id": "e4052e4d-0e75-4b4e-87ac-64348059d4ab",
   "metadata": {},
   "source": [
    "**Q) Take an email address from the user and extract the domain name (text after the @)**"
   ]
  },
  {
   "cell_type": "code",
   "execution_count": 93,
   "id": "4ea685f2-3b06-499c-835f-c396199e35af",
   "metadata": {},
   "outputs": [
    {
     "name": "stdout",
     "output_type": "stream",
     "text": [
      "Enter your email address:  deshmukh@akash\n"
     ]
    },
    {
     "name": "stdout",
     "output_type": "stream",
     "text": [
      "Domain name is: akash\n"
     ]
    }
   ],
   "source": [
    "email = input(\"Enter your email address: \")\n",
    "if \"@\" in email:\n",
    "    domain = email.split('@')[1]\n",
    "    print(\"Domain name is:\", domain)\n",
    "else:\n",
    "    print(\"Invalid email address. '@' symbol not found.\")"
   ]
  },
  {
   "cell_type": "markdown",
   "id": "a91f110a-79f5-4b39-889e-74f812160653",
   "metadata": {},
   "source": [
    "**Q) Take a list of integers from the user and a new number to add. Append it to the list and print the result.**"
   ]
  },
  {
   "cell_type": "code",
   "execution_count": 1,
   "id": "09ce188c-486d-4b57-9013-7565cb2deec0",
   "metadata": {},
   "outputs": [
    {
     "name": "stdin",
     "output_type": "stream",
     "text": [
      "Enter a list of integers separated by spaces:  2 4 6 7 8\n",
      "Enter a number to append:  9\n"
     ]
    },
    {
     "name": "stdout",
     "output_type": "stream",
     "text": [
      "Updated list: [2, 4, 6, 7, 8, 9]\n"
     ]
    }
   ],
   "source": [
    "user_input = input(\"Enter a list of integers separated by spaces: \")\n",
    "int_list = list(map(int, user_input.split()))\n",
    "\n",
    "new_number = int(input(\"Enter a number to append: \"))\n",
    "\n",
    "int_list.append(new_number)\n",
    "\n",
    "print(\"Updated list:\", int_list)"
   ]
  },
  {
   "cell_type": "markdown",
   "id": "981bd5cc-1967-472f-b69e-b671cd0551e1",
   "metadata": {},
   "source": [
    "**Q) Take comma-separated input from the user and store it as a tuple. Print the tuple**"
   ]
  },
  {
   "cell_type": "code",
   "execution_count": 3,
   "id": "cd7b1029-e136-4722-985d-c9f9317a52f0",
   "metadata": {},
   "outputs": [
    {
     "name": "stdin",
     "output_type": "stream",
     "text": [
      "Enter comma seperated text:  Akash,Deshmukh,007\n"
     ]
    },
    {
     "name": "stdout",
     "output_type": "stream",
     "text": [
      "('Akash', 'Deshmukh', '007')\n"
     ]
    }
   ],
   "source": [
    "n=input(\"Enter comma seperated text: \")\n",
    "tup= tuple(n.split(\",\"))\n",
    "print(tup)"
   ]
  },
  {
   "cell_type": "markdown",
   "id": "79effb98-4762-4c96-af1a-54cb28553ec2",
   "metadata": {},
   "source": [
    "**Q) Take a list from the user and convert it into a tuple.**"
   ]
  },
  {
   "cell_type": "code",
   "execution_count": 7,
   "id": "732a0f7c-ff01-432d-aa3b-49efef075230",
   "metadata": {},
   "outputs": [
    {
     "name": "stdin",
     "output_type": "stream",
     "text": [
      "Enter a list:  akash deshmukh\n"
     ]
    },
    {
     "name": "stdout",
     "output_type": "stream",
     "text": [
      "('akash', 'deshmukh')\n"
     ]
    }
   ],
   "source": [
    "n=input(\"Enter a list: \")\n",
    "n1=tuple(n.split())\n",
    "print(n1)"
   ]
  },
  {
   "cell_type": "markdown",
   "id": "d635aba8-8a11-4872-8951-973b1bac6d5c",
   "metadata": {},
   "source": [
    "**Q) Take a list of numbers from the user and print the total sum.**"
   ]
  },
  {
   "cell_type": "code",
   "execution_count": 15,
   "id": "9aea4caa-9070-4845-ad9f-be06854022c7",
   "metadata": {},
   "outputs": [
    {
     "name": "stdin",
     "output_type": "stream",
     "text": [
      "Enter list of numbers seperated by space:  2 3 4 5\n"
     ]
    },
    {
     "name": "stdout",
     "output_type": "stream",
     "text": [
      "14\n"
     ]
    }
   ],
   "source": [
    "n=input(\"Enter list of numbers seperated by space: \")\n",
    "l=list(map(int,n.split()))\n",
    "add=sum(l)\n",
    "print(add)"
   ]
  },
  {
   "cell_type": "markdown",
   "id": "bb969aaa-5c40-4099-993c-804df995305b",
   "metadata": {},
   "source": [
    "**Q) Remove all duplicate values from a list and print the unique elements.**"
   ]
  },
  {
   "cell_type": "code",
   "execution_count": 17,
   "id": "4190db6f-bdda-485a-859d-17e367591e03",
   "metadata": {},
   "outputs": [
    {
     "name": "stdin",
     "output_type": "stream",
     "text": [
      "Enter list:  akash deshmukh akash 007 deshmukh\n"
     ]
    },
    {
     "name": "stdout",
     "output_type": "stream",
     "text": [
      "['deshmukh', '007', 'akash']\n"
     ]
    }
   ],
   "source": [
    "n=input(\"Enter list: \")\n",
    "l=n.split()\n",
    "unique=list(set(l))\n",
    "print(unique)"
   ]
  },
  {
   "cell_type": "markdown",
   "id": "72727c32-87e1-4b88-a4dd-230227c7e48c",
   "metadata": {},
   "source": [
    "**Q) Take a tuple from the user, convert it to a list, add a new item, and convert it back to a tuple.**"
   ]
  },
  {
   "cell_type": "code",
   "execution_count": 19,
   "id": "af3c1fad-cdfd-4180-9483-bbaca8457975",
   "metadata": {},
   "outputs": [
    {
     "name": "stdin",
     "output_type": "stream",
     "text": [
      "Enter tuple elements separated by commas:  0,7,6,5,4\n",
      "Enter a new item to add:  1\n"
     ]
    },
    {
     "name": "stdout",
     "output_type": "stream",
     "text": [
      "Updated tuple: ('0', '7', '6', '5', '4', '1')\n"
     ]
    }
   ],
   "source": [
    "user_input = input(\"Enter tuple elements separated by commas: \")\n",
    "original_tuple = tuple(user_input.split(','))\n",
    "temp_list = list(original_tuple)\n",
    "new_item = input(\"Enter a new item to add: \")\n",
    "temp_list.append(new_item)\n",
    "updated_tuple = tuple(temp_list)\n",
    "print(\"Updated tuple:\", updated_tuple)\n"
   ]
  },
  {
   "cell_type": "markdown",
   "id": "f680ea70-5f10-4d7f-bba4-f92595b73349",
   "metadata": {},
   "source": [
    "**Q) Take two sets from the user and print: Union, Intersection**"
   ]
  },
  {
   "cell_type": "code",
   "execution_count": 21,
   "id": "b17de0a2-67ce-4764-a19c-8002a4db444f",
   "metadata": {},
   "outputs": [
    {
     "name": "stdin",
     "output_type": "stream",
     "text": [
      "Enter elements of the first set (comma-separated):  2,3,4,5,6\n",
      "Enter elements of the second set (comma-separated):  1,3,5,6\n"
     ]
    },
    {
     "name": "stdout",
     "output_type": "stream",
     "text": [
      "Union: {'2', '4', '6', '1', '5', '3'}\n",
      "Intersection: {'6', '5', '3'}\n"
     ]
    }
   ],
   "source": [
    "set1_input = input(\"Enter elements of the first set (comma-separated): \")\n",
    "set2_input = input(\"Enter elements of the second set (comma-separated): \")\n",
    "\n",
    "set1 = set(set1_input.split(','))\n",
    "set2 = set(set2_input.split(','))\n",
    "\n",
    "union_result = set1.union(set2)\n",
    "intersection_result = set1.intersection(set2)\n",
    "\n",
    "print(\"Union:\", union_result)\n",
    "print(\"Intersection:\", intersection_result)\n"
   ]
  },
  {
   "cell_type": "markdown",
   "id": "a5a6d2ca-f949-41de-a807-17ba7a0c4943",
   "metadata": {},
   "source": [
    "**Q) Take a list with repeated elements and remove duplicates using a set.**"
   ]
  },
  {
   "cell_type": "code",
   "execution_count": 23,
   "id": "96babc6e-2613-49cb-98e9-ce8ebd7f9cb7",
   "metadata": {},
   "outputs": [
    {
     "name": "stdin",
     "output_type": "stream",
     "text": [
      "Enter list of repeated elements(comma seperated):  2,3,4,5,6,3,2,5\n"
     ]
    },
    {
     "name": "stdout",
     "output_type": "stream",
     "text": [
      "{'2', '4', '6', '5', '3'}\n"
     ]
    }
   ],
   "source": [
    "n=input(\"Enter list of repeated elements(comma seperated): \")\n",
    "res=set(n.split(\",\"))\n",
    "print(res)"
   ]
  },
  {
   "cell_type": "markdown",
   "id": "59df44ac-2519-4fcf-a416-5deb4555b30d",
   "metadata": {},
   "source": [
    "**Q) Take two dictionaries and merge them**"
   ]
  },
  {
   "cell_type": "code",
   "execution_count": 31,
   "id": "aea1aa61-6480-4a3f-aa0c-0f9a940425f3",
   "metadata": {},
   "outputs": [
    {
     "name": "stdout",
     "output_type": "stream",
     "text": [
      "{'Math': 85, 'Science': 90, 'English': 88, 'History': 76}\n"
     ]
    }
   ],
   "source": [
    "dict1 = {\"Math\": 85, \"Science\": 90}\n",
    "dict2 = {\"English\": 88, \"History\": 76}\n",
    "\n",
    "dict1.update(dict2)\n",
    "\n",
    "print(dict1)"
   ]
  },
  {
   "cell_type": "markdown",
   "id": "3b4000f1-9053-4301-97f9-e9eb017adff6",
   "metadata": {},
   "source": [
    "**Q) Write a program to read 3 sentences from the user and return a set of all unique words (case-insensitive).**"
   ]
  },
  {
   "cell_type": "code",
   "execution_count": 25,
   "id": "79858469-3325-48e6-b656-947ed2815d04",
   "metadata": {},
   "outputs": [
    {
     "name": "stdin",
     "output_type": "stream",
     "text": [
      "Enter 1st sentence:  hello my name is sky\n",
      "Enter 2nd sentence:  hello sky\n",
      "Enter 3rd sentence:  hey sky my name is akash\n"
     ]
    },
    {
     "name": "stdout",
     "output_type": "stream",
     "text": [
      "{'hello', 'my', 'hey', 'name', 'is', 'akash', 'sky'}\n"
     ]
    }
   ],
   "source": [
    "n1=input(\"Enter 1st sentence: \").lower()\n",
    "n2=input(\"Enter 2nd sentence: \").lower()\n",
    "n3=input(\"Enter 3rd sentence: \").lower()\n",
    "\n",
    "n4=n1+\" \"+n2+\" \"+n3\n",
    "res=set(n4.split())\n",
    "print(res)"
   ]
  },
  {
   "cell_type": "markdown",
   "id": "20a9db60-be05-426d-a67c-37047eaec3d7",
   "metadata": {},
   "source": [
    "**Q) Create a nested dictionary where keys are student names and values are another dictionary with subject:marks pairs.\n",
    "Then print the average marks of each student.**"
   ]
  },
  {
   "cell_type": "code",
   "execution_count": 29,
   "id": "cc0dcf3b-cee8-4705-9b7e-c5a7e4e68539",
   "metadata": {},
   "outputs": [
    {
     "name": "stdout",
     "output_type": "stream",
     "text": [
      "Akash's average marks: 87.67\n",
      "Sky's average marks: 80.00\n"
     ]
    }
   ],
   "source": [
    "students = {\n",
    "    \"Akash\": {\"Math\": 85, \"Science\": 90, \"English\": 88},\n",
    "    \"Sky\": {\"Math\": 78, \"Science\": 82, \"English\": 80},\n",
    "}\n",
    "for student, subjects in students.items():    \n",
    "    total_marks = sum(subjects.values())       \n",
    "    num = len(subjects)\n",
    "    average = total_marks / num\n",
    "    print(f\"{student}'s average marks: {average:.2f}\")"
   ]
  },
  {
   "cell_type": "markdown",
   "id": "c185211c-e6b6-4949-9e79-26d6daf9254e",
   "metadata": {},
   "source": [
    "**Q) Given a list of dictionaries, merge them into one and sum values for keys that appear multiple times.**"
   ]
  },
  {
   "cell_type": "code",
   "execution_count": 35,
   "id": "20ba64bc-fbe4-4d69-91c6-de16ba642d8c",
   "metadata": {},
   "outputs": [
    {
     "name": "stdout",
     "output_type": "stream",
     "text": [
      "Merged dictionary with summed values:\n",
      "{'a': 14, 'b': 7, 'c': 15, 'd': 4}\n"
     ]
    }
   ],
   "source": [
    "lists = [\n",
    "    {'a': 10, 'b': 5},\n",
    "    {'a': 3, 'c': 8},\n",
    "    {'b': 2, 'd': 4},\n",
    "    {'c': 7, 'a': 1}\n",
    "]\n",
    "merged_dict = {}\n",
    "\n",
    "for dicts in lists:\n",
    "    for key, value in dicts.items():\n",
    "        if key in merged_dict:\n",
    "            merged_dict[key] += value\n",
    "        else:\n",
    "            merged_dict[key] = value\n",
    "\n",
    "print(\"Merged dictionary with summed values:\")\n",
    "print(merged_dict)\n"
   ]
  },
  {
   "cell_type": "markdown",
   "id": "bf2d0610-40d0-4d1d-b5e2-b43673d88229",
   "metadata": {},
   "source": [
    "**Q)Write a Python program that takes a password as input and checks if it meets the following requirements:**\n",
    "\n",
    "- The password should be at least 8 characters long.\n",
    "- The password should contain at least one uppercase letter.\n",
    "- The password should contain at least one lowercase letter.\n",
    "- The password should contain at least one digit.\n",
    "\n",
    "**If the password meets all the requirements, the program should print \"Password is valid.\" Otherwise, it should print \"Password is invalid.\"**"
   ]
  },
  {
   "cell_type": "code",
   "execution_count": 19,
   "id": "5d850739-e14a-431b-bf7e-71ff741f2ffa",
   "metadata": {},
   "outputs": [
    {
     "name": "stdin",
     "output_type": "stream",
     "text": [
      "Enter a password (containing 1 Capital letter, 1 small letter and any number in it) :  akash\n"
     ]
    },
    {
     "name": "stdout",
     "output_type": "stream",
     "text": [
      "Password is invalid\n"
     ]
    }
   ],
   "source": [
    "n=input(\"Enter a password (containing 1 Capital letter, 1 small letter and any number in it) : \")\n",
    "upp=False\n",
    "low=False\n",
    "dig=False\n",
    "for i in n:\n",
    "    if i.isupper():\n",
    "        upp=True\n",
    "    elif i.islower():\n",
    "        low=True\n",
    "    elif i.isdigit():\n",
    "        dig=True\n",
    "\n",
    "if upp and low and dig and len(n) >= 8:\n",
    "    print(\"Password is valid\")\n",
    "else:\n",
    "    print(\"Password is invalid\")"
   ]
  },
  {
   "cell_type": "markdown",
   "id": "768f182d-cfdc-451e-ab73-581180e57df7",
   "metadata": {},
   "source": [
    "**Q) Write a Python program that takes two strings as input and checks \n",
    "if they're anagrams (i.e., the strings contain the same characters, \n",
    "but in a different order). If the strings are anagrams, \n",
    "the program should print \"The strings are anagrams.\" Otherwise, \n",
    "it should print \"The strings are not anagrams.\"**"
   ]
  },
  {
   "cell_type": "code",
   "execution_count": 31,
   "id": "9a37ad12-88cb-46a2-97ae-4831e46b1dfc",
   "metadata": {},
   "outputs": [
    {
     "name": "stdin",
     "output_type": "stream",
     "text": [
      "Enter 1st string:  akash\n",
      "Enter 2nd string:  akashs\n"
     ]
    },
    {
     "name": "stdout",
     "output_type": "stream",
     "text": [
      "The strings are not anagrams\n"
     ]
    }
   ],
   "source": [
    "str1=input(\"Enter 1st string: \").lower()\n",
    "str2=input(\"Enter 2nd string: \").lower()\n",
    "if sorted(str1) == sorted(str2):\n",
    "    print(\"The strings are Anagrams\")\n",
    "else:\n",
    "    print(\"The strings are not anagrams\")"
   ]
  },
  {
   "cell_type": "markdown",
   "id": "6313b255-33d0-4aa5-96fd-503852003396",
   "metadata": {},
   "source": [
    "**Exception Handling**\n"
   ]
  },
  {
   "cell_type": "code",
   "execution_count": 80,
   "id": "059822c6-3707-429e-a85e-93f3aed5013a",
   "metadata": {},
   "outputs": [
    {
     "name": "stdin",
     "output_type": "stream",
     "text": [
      "Enter a number:  f\n"
     ]
    },
    {
     "name": "stdout",
     "output_type": "stream",
     "text": [
      "Error:  invalid literal for int() with base 10: 'f'\n"
     ]
    }
   ],
   "source": [
    "try:\n",
    "    a=int(input(\"Enter a number: \"))\n",
    "    b=int(input(\"Enter 2nd number: \"))\n",
    "    print(a/b)\n",
    "except(ValueError,ZeroDivisionError) as e:\n",
    "    print(\"Error: \",e)\n",
    "    "
   ]
  },
  {
   "cell_type": "markdown",
   "id": "260fc671-448c-4098-95c8-948065687fb8",
   "metadata": {},
   "source": [
    "**Q) User has ₹5,000 in balance. Ask how much to withdraw. Handle non-numeric input and insufficient balance.**"
   ]
  },
  {
   "cell_type": "code",
   "execution_count": 96,
   "id": "357f3a3c-0d47-40a6-b642-551bcf9b4f21",
   "metadata": {},
   "outputs": [
    {
     "name": "stdin",
     "output_type": "stream",
     "text": [
      "Enter the amount you want to withdraw:  5001\n"
     ]
    },
    {
     "name": "stdout",
     "output_type": "stream",
     "text": [
      "insufficient balance\n"
     ]
    }
   ],
   "source": [
    "bal=5000\n",
    "try:\n",
    "    a=int(input(\"Enter the amount you want to withdraw: \"))\n",
    "except(ValueError) as e:\n",
    "    print(\"Please enter integer number\")\n",
    "\n",
    "if a> bal:\n",
    "    print(\"insufficient balance\")\n",
    "else:\n",
    "    print(\"Money diducted, available balance is: \",bal-a)\n",
    "    "
   ]
  },
  {
   "cell_type": "markdown",
   "id": "ef91e467-d4a3-4dc2-983b-89cfb2cfb2d1",
   "metadata": {},
   "source": [
    "**Q) Ask the user to enter a number. Convert it to an integer, but handle invalid values like alphabets or floats.**"
   ]
  },
  {
   "cell_type": "code",
   "execution_count": 105,
   "id": "a9b164fe-6c52-4ba5-b060-b5fb28f1050f",
   "metadata": {},
   "outputs": [
    {
     "name": "stdin",
     "output_type": "stream",
     "text": [
      "Enter a number:  12.5\n"
     ]
    },
    {
     "name": "stdout",
     "output_type": "stream",
     "text": [
      "Enter numeric value invalid literal for int() with base 10: '12.5'\n"
     ]
    }
   ],
   "source": [
    "try:\n",
    "    n=int(input(\"Enter a number: \"))\n",
    "    print(\"The integer number is: \",round(n))\n",
    "except(ValueError):\n",
    "    print(\"Enter Integer value\")"
   ]
  },
  {
   "cell_type": "markdown",
   "id": "c04cdfeb-662a-4a74-991a-2f6278f535e7",
   "metadata": {},
   "source": [
    "**Q) Ask the user to enter an email. Raise an exception if it doesn’t contain “@” or “.”.**"
   ]
  },
  {
   "cell_type": "code",
   "execution_count": 118,
   "id": "6c8d8446-d956-490b-9e79-17dc0718ca02",
   "metadata": {},
   "outputs": [
    {
     "name": "stdin",
     "output_type": "stream",
     "text": [
      "Enter your email:  deshmukh@gmail.com\n"
     ]
    },
    {
     "name": "stdout",
     "output_type": "stream",
     "text": [
      "Valid email entered: deshmukh@gmail.com\n"
     ]
    }
   ],
   "source": [
    "try:\n",
    "    email = input(\"Enter your email: \")\n",
    "    if \"@\" not in email or \".\" not in email:\n",
    "        raise ValueError(\"Invalid email: must contain '@' and '.'\")\n",
    "    print(f\"Valid email entered: {email}\")\n",
    "except ValueError as e:\n",
    "    print(e)"
   ]
  },
  {
   "cell_type": "markdown",
   "id": "5fc6d57a-5e9f-47f8-a76a-505127c7b429",
   "metadata": {},
   "source": [
    "**Q) Ask user for hours worked and hourly wage. If hours are more than 24 or negative, raise an error.**"
   ]
  },
  {
   "cell_type": "code",
   "execution_count": 125,
   "id": "e0b5f3d9-e7ca-4941-80f0-606e00d0eab2",
   "metadata": {},
   "outputs": [
    {
     "name": "stdin",
     "output_type": "stream",
     "text": [
      "Enter hours they worked:  3\n",
      "Enter hourly wage:  90\n"
     ]
    },
    {
     "name": "stdout",
     "output_type": "stream",
     "text": [
      "Total Pay : 270\n"
     ]
    }
   ],
   "source": [
    "try:\n",
    "    hrs=int(input(\"Enter hours they worked: \"))\n",
    "    hrs_wage=int(input(\"Enter hourly wage: \"))\n",
    "    if hrs>24 or hrs<0:\n",
    "        raise ValueError(\"Invalid hrs, Enter hrs between 0-24\")\n",
    "    print(\"Total Pay :\",hrs*hrs_wage)\n",
    "except(ValueError):\n",
    "    print(\"Enter hrs in integer\")"
   ]
  },
  {
   "cell_type": "markdown",
   "id": "61391632-c0ab-410f-bb3b-364e1013540b",
   "metadata": {},
   "source": [
    "**Q) Simulate a login system with a predefined username and password.**"
   ]
  },
  {
   "cell_type": "code",
   "execution_count": 51,
   "id": "1016b1f6-5468-42fc-bad2-ec63c90d30b2",
   "metadata": {},
   "outputs": [
    {
     "name": "stdin",
     "output_type": "stream",
     "text": [
      "Enter username:  akash\n",
      "Enter a password (containing 1 Capital letter, 1 small letter and any number in it) :  Akash007\n"
     ]
    },
    {
     "name": "stdout",
     "output_type": "stream",
     "text": [
      "Username matched, enter password again\n"
     ]
    },
    {
     "name": "stdin",
     "output_type": "stream",
     "text": [
      "Enter username:  akash\n",
      "Enter a password (containing 1 Capital letter, 1 small letter and any number in it) :  akash007\n"
     ]
    },
    {
     "name": "stdout",
     "output_type": "stream",
     "text": [
      "Password must contain 1 Capital letter, 1 small letter and any number\n"
     ]
    },
    {
     "name": "stdin",
     "output_type": "stream",
     "text": [
      "Enter username:  akash\n",
      "Enter a password (containing 1 Capital letter, 1 small letter and any number in it) :  Akash123\n"
     ]
    },
    {
     "name": "stdout",
     "output_type": "stream",
     "text": [
      "Username and Password Matched!!! Login successfull\n"
     ]
    }
   ],
   "source": [
    "while True:\n",
    "    username=input(\"Enter username: \").lower()\n",
    "    n=input(\"Enter a password (containing 1 Capital letter, 1 small letter and any number in it) : \")\n",
    "    \n",
    "    upp=False\n",
    "    low=False\n",
    "    dig=False\n",
    "    for i in n:\n",
    "        if i.isupper():\n",
    "            upp=True\n",
    "        elif i.islower():\n",
    "            low=True\n",
    "        elif i.isdigit():\n",
    "            dig=True\n",
    "    \n",
    "    user=\"akash\"\n",
    "    pas=\"Akash123\"\n",
    "    if upp and low and dig and len(n) >= 8:\n",
    "        if username == user:\n",
    "            if n==pas:\n",
    "                print(\"Username and Password Matched!!! Login successfull\")\n",
    "                break\n",
    "            else:\n",
    "                print(\"Username matched, enter password again\")\n",
    "        else:\n",
    "            print(\"Username and password invalid\")\n",
    "    else:\n",
    "        print(\"Password must contain 1 Capital letter, 1 small letter and any number\")"
   ]
  },
  {
   "cell_type": "markdown",
   "id": "85b28ddb-ea33-494f-b264-77f2c80cb7b3",
   "metadata": {},
   "source": [
    "**Q) Python program to find cube of number entered by the user**"
   ]
  },
  {
   "cell_type": "code",
   "execution_count": 47,
   "id": "b09aa666-b67e-4b01-9ab0-b3952a5330de",
   "metadata": {},
   "outputs": [
    {
     "name": "stdin",
     "output_type": "stream",
     "text": [
      "Enter a number:  e\n"
     ]
    },
    {
     "name": "stdout",
     "output_type": "stream",
     "text": [
      "invalid literal for int() with base 10: 'e'\n",
      "Enter integer value\n"
     ]
    },
    {
     "name": "stdin",
     "output_type": "stream",
     "text": [
      "Enter a number:  -1\n"
     ]
    },
    {
     "name": "stdout",
     "output_type": "stream",
     "text": [
      "Enter value Greater than 0\n"
     ]
    },
    {
     "name": "stdin",
     "output_type": "stream",
     "text": [
      "Enter a number:  4\n"
     ]
    },
    {
     "name": "stdout",
     "output_type": "stream",
     "text": [
      "Cube of 4 is:  64\n"
     ]
    }
   ],
   "source": [
    "while True:\n",
    "    try:\n",
    "        n=int(input(\"Enter a number: \"))\n",
    "        if n<0:\n",
    "            print(\"Enter value Greater than 0\")\n",
    "        else:\n",
    "            print(\"Cube of\",n,\"is: \",n**3)\n",
    "            break\n",
    "    except(ValueError) as e:\n",
    "        print(e)\n",
    "        print(\"Enter integer value\")"
   ]
  },
  {
   "cell_type": "markdown",
   "id": "49330d42-0352-4f21-bdf3-b05e38496607",
   "metadata": {},
   "source": [
    "**Q) Take input of multiple students (name, marks in 3 subjects), calculate average, assign grade, and display a report card.**\n"
   ]
  },
  {
   "cell_type": "code",
   "execution_count": 54,
   "id": "281c69d1-b978-4e20-8615-a6c4832d3783",
   "metadata": {},
   "outputs": [
    {
     "name": "stdin",
     "output_type": "stream",
     "text": [
      "Enter number of students:  2\n"
     ]
    },
    {
     "name": "stdout",
     "output_type": "stream",
     "text": [
      "\n",
      "Enter details for student 1:\n"
     ]
    },
    {
     "name": "stdin",
     "output_type": "stream",
     "text": [
      "Name:  Akash\n",
      "Enter marks for subject 1:  90\n",
      "Enter marks for subject 2:  23\n",
      "Enter marks for subject 3:  67\n"
     ]
    },
    {
     "name": "stdout",
     "output_type": "stream",
     "text": [
      "\n",
      "Enter details for student 2:\n"
     ]
    },
    {
     "name": "stdin",
     "output_type": "stream",
     "text": [
      "Name:  Sky\n",
      "Enter marks for subject 1:  90\n",
      "Enter marks for subject 2:  78\n",
      "Enter marks for subject 3:  45\n"
     ]
    },
    {
     "name": "stdout",
     "output_type": "stream",
     "text": [
      "\n",
      "--- Report Card ---\n",
      "\n",
      "Name: Akash\n",
      "Marks: [90.0, 23.0, 67.0]\n",
      "Average: 60.00\n",
      "Grade: C\n",
      "\n",
      "Name: Sky\n",
      "Marks: [90.0, 78.0, 45.0]\n",
      "Average: 71.00\n",
      "Grade: B\n"
     ]
    }
   ],
   "source": [
    "def calculate_grade(avg):\n",
    "    if avg >= 90:\n",
    "        return 'A+'\n",
    "    elif avg >= 80:\n",
    "        return 'A'\n",
    "    elif avg >= 70:\n",
    "        return 'B'\n",
    "    elif avg >= 60:\n",
    "        return 'C'\n",
    "    elif avg >= 50:\n",
    "        return 'D'\n",
    "    else:\n",
    "        return 'F'\n",
    "students = []\n",
    "num_students = int(input(\"Enter number of students: \"))\n",
    "\n",
    "for i in range(num_students):\n",
    "    print(f\"\\nEnter details for student {i+1}:\")\n",
    "    name = input(\"Name: \")\n",
    "    marks = []\n",
    "    for j in range(1, 4):\n",
    "        mark = float(input(f\"Enter marks for subject {j}: \"))\n",
    "        marks.append(mark)\n",
    "    average = sum(marks) / 3\n",
    "    grade = calculate_grade(average)\n",
    "    students.append({\"name\": name, \"marks\": marks, \"average\": average, \"grade\": grade})\n",
    "\n",
    "print(\"\\n--- Report Card ---\")\n",
    "for student in students:\n",
    "    print(f\"\\nName: {student['name']}\")\n",
    "    print(f\"Marks: {student['marks']}\")\n",
    "    print(f\"Average: {student['average']:.2f}\")\n",
    "    print(f\"Grade: {student['grade']}\")"
   ]
  },
  {
   "cell_type": "markdown",
   "id": "68d9d458-4197-48bb-a96a-4280895ec7bf",
   "metadata": {},
   "source": [
    "**Q) emperature Converter with Menu**\n",
    "\n",
    "Convert:\n",
    "- Celsius ↔ Fahrenheit\n",
    "- Celsius ↔ Kelvin\n",
    "\n",
    " **Use functions and a looped menu for navigation.**"
   ]
  },
  {
   "cell_type": "code",
   "execution_count": 64,
   "id": "d9f1eaaf-c1c6-4178-b39c-298245d4a7ee",
   "metadata": {},
   "outputs": [
    {
     "name": "stdout",
     "output_type": "stream",
     "text": [
      "\n",
      "--- Temperature Converter ---\n",
      "1. Celsius to Fahrenheit\n",
      "2. Fahrenheit to Celsius\n",
      "3. Celsius to Kelvin\n",
      "4. Kelvin to Celsius\n",
      "5. Exit\n"
     ]
    },
    {
     "name": "stdin",
     "output_type": "stream",
     "text": [
      "Enter your choice (1-5):  1\n",
      "Enter temperature in Celsius:  40\n"
     ]
    },
    {
     "name": "stdout",
     "output_type": "stream",
     "text": [
      "Temperature in Fahrenheit: 104.00°F\n",
      "\n",
      "--- Temperature Converter ---\n",
      "1. Celsius to Fahrenheit\n",
      "2. Fahrenheit to Celsius\n",
      "3. Celsius to Kelvin\n",
      "4. Kelvin to Celsius\n",
      "5. Exit\n"
     ]
    },
    {
     "name": "stdin",
     "output_type": "stream",
     "text": [
      "Enter your choice (1-5):  5\n"
     ]
    },
    {
     "name": "stdout",
     "output_type": "stream",
     "text": [
      "Exiting Temperature Converter. Goodbye!\n"
     ]
    }
   ],
   "source": [
    "def celsius_to_fahrenheit(c):\n",
    "    return (c * 9/5) + 32\n",
    "\n",
    "def fahrenheit_to_celsius(f):\n",
    "    return (f - 32) * 5/9\n",
    "\n",
    "def celsius_to_kelvin(c):\n",
    "    return c + 273.15\n",
    "\n",
    "def kelvin_to_celsius(k):\n",
    "    return k - 273.15\n",
    "\n",
    "def show_menu():\n",
    "    print(\"\\n--- Temperature Converter ---\")\n",
    "    print(\"1. Celsius to Fahrenheit\")\n",
    "    print(\"2. Fahrenheit to Celsius\")\n",
    "    print(\"3. Celsius to Kelvin\")\n",
    "    print(\"4. Kelvin to Celsius\")\n",
    "    print(\"5. Exit\")\n",
    "\n",
    "while True:\n",
    "    show_menu()\n",
    "    choice = input(\"Enter your choice (1-5): \")\n",
    "\n",
    "    if choice == '1':\n",
    "        c = float(input(\"Enter temperature in Celsius: \"))\n",
    "        print(f\"Temperature in Fahrenheit: {celsius_to_fahrenheit(c):.2f}°F\")\n",
    "    elif choice == '2':\n",
    "        f = float(input(\"Enter temperature in Fahrenheit: \"))\n",
    "        print(f\"Temperature in Celsius: {fahrenheit_to_celsius(f):.2f}°C\")\n",
    "    elif choice == '3':\n",
    "        c = float(input(\"Enter temperature in Celsius: \"))\n",
    "        print(f\"Temperature in Kelvin: {celsius_to_kelvin(c):.2f}K\")\n",
    "    elif choice == '4':\n",
    "        k = float(input(\"Enter temperature in Kelvin: \"))\n",
    "        print(f\"Temperature in Celsius: {kelvin_to_celsius(k):.2f}°C\")\n",
    "    elif choice == '5':\n",
    "        print(\"Exiting Temperature Converter. Goodbye!\")\n",
    "        break\n",
    "    else:\n",
    "        print(\"Invalid choice. Please try again.\")\n"
   ]
  },
  {
   "cell_type": "markdown",
   "id": "68334358-5914-4534-aa10-371fd6cfbe73",
   "metadata": {},
   "source": [
    "**Q) Input a paragraph, clean it up, and count word frequency using a dictionary. Bonus: sort by frequency.**"
   ]
  },
  {
   "cell_type": "code",
   "execution_count": 69,
   "id": "9f644146-c1ea-4ba6-adbc-d80c69cc0a19",
   "metadata": {},
   "outputs": [
    {
     "name": "stdin",
     "output_type": "stream",
     "text": [
      "Enter a paragraph:\n",
      " hello everyone, my name is akash and i am going to be a data analyst\n"
     ]
    },
    {
     "name": "stdout",
     "output_type": "stream",
     "text": [
      "\n",
      "--- Word Frequency ---\n",
      "hello: 1\n",
      "everyone: 1\n",
      "my: 1\n",
      "name: 1\n",
      "is: 1\n",
      "akash: 1\n",
      "and: 1\n",
      "i: 1\n",
      "am: 1\n",
      "going: 1\n",
      "to: 1\n",
      "be: 1\n",
      "a: 1\n",
      "data: 1\n",
      "analyst: 1\n"
     ]
    }
   ],
   "source": [
    "import string\n",
    "\n",
    "paragraph = input(\"Enter a paragraph:\\n\")\n",
    "\n",
    "paragraph = paragraph.lower()\n",
    "for char in string.punctuation:\n",
    "    paragraph = paragraph.replace(char, \"\")\n",
    "\n",
    "words = paragraph.split()\n",
    "\n",
    "word_freq = {}\n",
    "for word in words:\n",
    "    if word in word_freq:\n",
    "        word_freq[word] += 1\n",
    "    else:\n",
    "        word_freq[word] = 1\n",
    "\n",
    "sorted_items = []\n",
    "for item in word_freq.items():\n",
    "    sorted_items.append(item)\n",
    "\n",
    "for i in range(len(sorted_items)):\n",
    "    for j in range(i + 1, len(sorted_items)):\n",
    "        if sorted_items[i][1] < sorted_items[j][1]:\n",
    "            sorted_items[i], sorted_items[j] = sorted_items[j], sorted_items[i]\n",
    "\n",
    "print(\"\\n--- Word Frequency ---\")\n",
    "for word, freq in sorted_items:\n",
    "    print(f\"{word}: {freq}\")\n"
   ]
  },
  {
   "cell_type": "code",
   "execution_count": null,
   "id": "96a4b51d-0e73-4ea8-84bc-0c5e574d5d67",
   "metadata": {},
   "outputs": [],
   "source": []
  }
 ],
 "metadata": {
  "kernelspec": {
   "display_name": "Python 3 (ipykernel)",
   "language": "python",
   "name": "python3"
  },
  "language_info": {
   "codemirror_mode": {
    "name": "ipython",
    "version": 3
   },
   "file_extension": ".py",
   "mimetype": "text/x-python",
   "name": "python",
   "nbconvert_exporter": "python",
   "pygments_lexer": "ipython3",
   "version": "3.12.4"
  }
 },
 "nbformat": 4,
 "nbformat_minor": 5
}
